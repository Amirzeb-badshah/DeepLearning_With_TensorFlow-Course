{
  "nbformat": 4,
  "nbformat_minor": 0,
  "metadata": {
    "colab": {
      "provenance": [],
      "mount_file_id": "https://github.com/Amirzeb-badshah/DeepLearning_With_TensorFlow-Course/blob/main/TensorFlow001.ipynb",
      "authorship_tag": "ABX9TyMtOb/PLjxXvSKT3MdR7Ujl"
    },
    "kernelspec": {
      "name": "python3",
      "display_name": "Python 3"
    },
    "language_info": {
      "name": "python"
    }
  },
  "cells": [
    {
      "cell_type": "markdown",
      "source": [
        "In this notebook we will learn Basics of tensorflow.\n",
        "\n",
        "* Introduction to tensor\n",
        "* Getting Information from tensors\n",
        "* Tensors & Numpy\n",
        "* Using @tf.function (a way to speed up your regular python)\n",
        "* Using GPUs with tensorFlow.\n"
      ],
      "metadata": {
        "id": "72cnhIJMQu3r"
      }
    },
    {
      "cell_type": "code",
      "source": [
        "# Import tensorflow\n",
        "\n",
        "import tensorflow as tf\n",
        "import numpy as np\n",
        "import pandas as pd\n",
        "print(tf.__version__)"
      ],
      "metadata": {
        "id": "JkLPDgQFQsx4",
        "colab": {
          "base_uri": "https://localhost:8080/"
        },
        "outputId": "a6d12010-88d9-4cfe-efe3-00141740c0f2"
      },
      "execution_count": null,
      "outputs": [
        {
          "output_type": "stream",
          "name": "stdout",
          "text": [
            "2.19.0\n"
          ]
        }
      ]
    },
    {
      "cell_type": "code",
      "source": [
        "# Creating tensors with tf.constant()\n",
        "\n",
        "scalar = tf.constant(7)\n",
        "scalar"
      ],
      "metadata": {
        "id": "F2cYdYwnQsoC",
        "colab": {
          "base_uri": "https://localhost:8080/"
        },
        "outputId": "4abfa94d-f72b-4b81-ba8e-7b83bcd4ca5c"
      },
      "execution_count": null,
      "outputs": [
        {
          "output_type": "execute_result",
          "data": {
            "text/plain": [
              "<tf.Tensor: shape=(), dtype=int32, numpy=7>"
            ]
          },
          "metadata": {},
          "execution_count": 2
        }
      ]
    },
    {
      "cell_type": "code",
      "source": [
        "# check the no of dimensions (ndim is for number of dimensions)\n",
        "scalar.ndim"
      ],
      "metadata": {
        "id": "qRT5WbdOQsby"
      },
      "execution_count": null,
      "outputs": []
    },
    {
      "cell_type": "code",
      "source": [
        "# Create a vector. Here, we pass a list.\n",
        "vector = tf.constant([10,10])\n",
        "vector"
      ],
      "metadata": {
        "id": "N6FfvMUcSoYT"
      },
      "execution_count": null,
      "outputs": []
    },
    {
      "cell_type": "code",
      "source": [
        "# Check the dimension of vector\n",
        "vector.ndim"
      ],
      "metadata": {
        "id": "HwWZF0OuSoRO"
      },
      "execution_count": null,
      "outputs": []
    },
    {
      "cell_type": "code",
      "source": [
        "# Create a matrix\n",
        "matrix = tf.constant([[10,7],[7,10]])\n",
        "matrix"
      ],
      "metadata": {
        "id": "CwMbfs8kSoIz"
      },
      "execution_count": null,
      "outputs": []
    },
    {
      "cell_type": "code",
      "source": [
        "matrix.ndim"
      ],
      "metadata": {
        "id": "VzchiGwaSn_2"
      },
      "execution_count": null,
      "outputs": []
    },
    {
      "cell_type": "code",
      "source": [
        "# Create a matrix and specify the dtype\n",
        "matrix1 = tf.constant([[10.,7.],\n",
        "                       [3.,2.],\n",
        "                        [8.,9.]],dtype=tf.float16)\n",
        "matrix1"
      ],
      "metadata": {
        "id": "npQ4O0cxSn01"
      },
      "execution_count": null,
      "outputs": []
    },
    {
      "cell_type": "code",
      "source": [
        "matrix1.ndim"
      ],
      "metadata": {
        "colab": {
          "base_uri": "https://localhost:8080/"
        },
        "id": "LJfdGlrEUNXm",
        "outputId": "bd9377ba-4611-4888-81c0-3ba262abd7fd"
      },
      "execution_count": null,
      "outputs": [
        {
          "output_type": "execute_result",
          "data": {
            "text/plain": [
              "2"
            ]
          },
          "metadata": {},
          "execution_count": 9
        }
      ]
    },
    {
      "cell_type": "code",
      "source": [
        "# Create a 3D tensor\n",
        "# shape=(3, 2, 3): Three tensors, each has 2-Rows and 3-Columns\n",
        "tensor_3d = tf.constant([[[1, 2, 3],\n",
        "                         [4, 5, 6]],\n",
        "                        [[7, 8, 9],\n",
        "                         [10, 11, 12]],\n",
        "                         [[14, 15, 16],\n",
        "                         [17, 18, 19]]])\n",
        "display(tensor_3d)"
      ],
      "metadata": {
        "id": "gRQrjZzrUNDl"
      },
      "execution_count": null,
      "outputs": []
    },
    {
      "cell_type": "code",
      "source": [
        "tensor_3d.ndim"
      ],
      "metadata": {
        "colab": {
          "base_uri": "https://localhost:8080/"
        },
        "id": "Hun2kOxOUM6c",
        "outputId": "6a6fb4d5-1b17-4b2c-d4c5-9d845b90b0b2"
      },
      "execution_count": null,
      "outputs": [
        {
          "output_type": "execute_result",
          "data": {
            "text/plain": [
              "3"
            ]
          },
          "metadata": {},
          "execution_count": 14
        }
      ]
    },
    {
      "cell_type": "markdown",
      "source": [
        "What we have created so far\n",
        "\n",
        "* A scalar is a single number.\n",
        "* Vector: A number with direction.\n",
        "* Matrix: a 2-dimensional array of numbers\n",
        "\n",
        "* Tensor: an n-dimensional array of numbers where n can be any number, a 0 dimensional tensor is scalar."
      ],
      "metadata": {
        "id": "_C3eyj9vWuG4"
      }
    },
    {
      "cell_type": "code",
      "source": [
        "tf.Variable"
      ],
      "metadata": {
        "id": "hEmQX2CwUMxK"
      },
      "execution_count": null,
      "outputs": []
    },
    {
      "cell_type": "code",
      "source": [
        "# Create the same tensor with Variable\n",
        "changeable_tensor = tf.Variable([10,7])\n",
        "unchangeable_tensor = tf.constant([10,7])\n",
        "changeable_tensor, unchangeable_tensor"
      ],
      "metadata": {
        "id": "uJfmlYyKUMns"
      },
      "execution_count": null,
      "outputs": []
    },
    {
      "cell_type": "code",
      "source": [
        "\n",
        "changeable_tensor[0].assign(7)\n",
        "changeable_tensor"
      ],
      "metadata": {
        "id": "gcf_VOEJanmM"
      },
      "execution_count": null,
      "outputs": []
    },
    {
      "cell_type": "code",
      "source": [
        "# The assignment will result in an error\n",
        "changeable_tensor[0] = 7\n",
        "changeable_tensor"
      ],
      "metadata": {
        "id": "kX3RWtfjanY2"
      },
      "execution_count": null,
      "outputs": []
    },
    {
      "cell_type": "code",
      "source": [
        "# Even with assign() we cannot change unchangeable Matrix\n",
        "# The following will throw an error.\n",
        "unchangeable_tensor[0].assign(7)\n",
        "unchangeable_tensor"
      ],
      "metadata": {
        "id": "sQXa2BblanVw"
      },
      "execution_count": null,
      "outputs": []
    },
    {
      "cell_type": "markdown",
      "source": [
        " **Note:** Rarely in practice will we decide wither to use tf.constant or tf.Variable as TensorFlow does this for you. However, if in doubt, use tf.constant and change it later if needed."
      ],
      "metadata": {
        "id": "nv5Eac-p29fl"
      }
    },
    {
      "cell_type": "markdown",
      "source": [
        "#Creating Random Tensors\n",
        "\n",
        "* Random tensors are tensors of arbitary size which contain random numbers.\n",
        "\n",
        "* A neural network starts with random values for their weights.\n",
        "\n",
        "\n",
        "\n"
      ],
      "metadata": {
        "id": "tqwOAS49200X"
      }
    },
    {
      "cell_type": "code",
      "source": [
        "# creating random tensors.\n",
        "random_1 = tf.random.Generator.from_seed(42)\n",
        "random_1 = random_1.normal(shape=(3,2))\n",
        "random_2 = tf.random.Generator.from_seed(42)\n",
        "random_2 = random_2.normal(shape=(3,2))\n",
        "\n",
        "random_1, random_2, random_1 == random_2"
      ],
      "metadata": {
        "id": "Pae3YvjVUMeL"
      },
      "execution_count": null,
      "outputs": []
    },
    {
      "cell_type": "markdown",
      "source": [
        "# Shuffle the order of elements in a Tensor"
      ],
      "metadata": {
        "id": "OVGCSOhL51OH"
      }
    },
    {
      "cell_type": "code",
      "source": [
        "# Shuffle a tensor\n",
        "not_shuffled = tf.constant([[10,7],\n",
        "                            [3,4],\n",
        "                            [2,5]])\n",
        "not_shuffled.ndim\n",
        "\n",
        "# Shuffle the above. Shuffles the tensors along the ROW. Rows are shuffled.\n",
        "tf.random.shuffle(not_shuffled)\n"
      ],
      "metadata": {
        "id": "FSKIlh-G3hXL"
      },
      "execution_count": null,
      "outputs": []
    },
    {
      "cell_type": "code",
      "source": [
        "tf.random.set_seed(42) # Global Tensors\n",
        "tf.random.shuffle(not_shuffled, seed=42) # Operation Level Random Seed."
      ],
      "metadata": {
        "id": "tmTKaxqh3hMz"
      },
      "execution_count": null,
      "outputs": []
    },
    {
      "cell_type": "markdown",
      "source": [
        "# Creating Tensors from Numpy"
      ],
      "metadata": {
        "id": "LpMpzm2l8q6f"
      }
    },
    {
      "cell_type": "code",
      "source": [
        "tf.ones(shape=(3,4))"
      ],
      "metadata": {
        "id": "II6Fd-Lw6A3g"
      },
      "execution_count": null,
      "outputs": []
    },
    {
      "cell_type": "code",
      "source": [
        "tf.zeros(shape=(3,4))"
      ],
      "metadata": {
        "id": "wBx24mFX6AoQ"
      },
      "execution_count": null,
      "outputs": []
    },
    {
      "cell_type": "markdown",
      "source": [
        "### Turn numpy arrays into numbers.\n",
        "Main difference between Numpy Arrays and Tensors is that Tensors can be run effectively on GPU."
      ],
      "metadata": {
        "id": "fW2iwAZ5AByC"
      }
    },
    {
      "cell_type": "code",
      "source": [
        "import numpy as np\n",
        "numpy_A = np.arange(1, 25, dtype=np.int32)\n",
        "\n",
        "# Converting above numpy array to tensors\n",
        "A = tf.constant(numpy_A, shape=(2,3,4))\n",
        "A"
      ],
      "metadata": {
        "id": "-qbWFJuFAR2Z"
      },
      "execution_count": null,
      "outputs": []
    },
    {
      "cell_type": "code",
      "source": [
        "B = tf.constant(numpy_A, shape=(3,8))\n",
        "B"
      ],
      "metadata": {
        "id": "5sisXDRFARyn"
      },
      "execution_count": null,
      "outputs": []
    },
    {
      "cell_type": "markdown",
      "source": [
        "### Getting Information From Tensors\n",
        "\n",
        "At times you might want to extract more information from tensors.\n",
        "\n",
        "* Shape: Length of elements.\n",
        "* Rank:  Number of dimensions. Scalar is Rank 0, Vector is rank 1 and Matrix is Rank 2 (Rows * Columns)."
      ],
      "metadata": {
        "id": "AKEm5b52DbJt"
      }
    },
    {
      "cell_type": "code",
      "source": [
        "rank_4_tensor = tf.zeros(shape=(2,3,4,5))\n",
        "# shape = (2,3,4,5)\n",
        "# 2 Large containers then inside these 2 containers 3 other containers.\n",
        "# Inside these 3 containers we have a 4 * 5 Matrix\n",
        "rank_4_tensor"
      ],
      "metadata": {
        "id": "xJ8YGYmDcUzx"
      },
      "execution_count": null,
      "outputs": []
    },
    {
      "cell_type": "code",
      "source": [
        "print(\"Datatype of every element is:\", rank_4_tensor.dtype)\n",
        "print(\"Number of dimensions (rank):\", rank_4_tensor.ndim)\n",
        "print(\"Shape of Tensor is :\", rank_4_tensor.shape)\n",
        "print(\"Elements along the 0 axis:\", rank_4_tensor.shape[0])\n",
        "print(\"Elements along the last axis:\", rank_4_tensor.shape[-1])\n",
        "print(\"Total number of elements in our tensor:\", tf.size(rank_4_tensor))"
      ],
      "metadata": {
        "id": "ihNm0b6acUlP"
      },
      "execution_count": null,
      "outputs": []
    },
    {
      "cell_type": "code",
      "source": [
        "rank_2_tensor = tf.constant([[10,7],\n",
        "                             [3,4]])\n",
        "# All Rows and Last Column\n",
        "rank_2_tensor[:,-1]"
      ],
      "metadata": {
        "id": "6EINDWyAgXci"
      },
      "execution_count": null,
      "outputs": []
    },
    {
      "cell_type": "code",
      "source": [
        "# The ... means all dimensions plus a new axis\n",
        "rank_3_tensor = rank_2_tensor[..., tf.newaxis]\n",
        "rank_3_tensor"
      ],
      "metadata": {
        "id": "bnp7wU9Fei22"
      },
      "execution_count": null,
      "outputs": []
    },
    {
      "cell_type": "code",
      "source": [
        "rank_2_tensor.shape, rank_3_tensor.shape"
      ],
      "metadata": {
        "id": "KAuxjHSveion"
      },
      "execution_count": null,
      "outputs": []
    },
    {
      "cell_type": "code",
      "source": [],
      "metadata": {
        "id": "_sZS8ebMeicj"
      },
      "execution_count": null,
      "outputs": []
    },
    {
      "cell_type": "markdown",
      "source": [
        "# Basic Tensor Operations"
      ],
      "metadata": {
        "id": "eLzGUJvhhsKM"
      }
    },
    {
      "cell_type": "code",
      "source": [
        "random_tensor = tf.constant([[10,7],\n",
        "                             [3,4]])\n",
        "random_tensor + 10"
      ],
      "metadata": {
        "id": "HoSEf29ohviu"
      },
      "execution_count": null,
      "outputs": []
    },
    {
      "cell_type": "code",
      "source": [
        "random_tensor * 10"
      ],
      "metadata": {
        "id": "CQoXvHo5eiQs"
      },
      "execution_count": null,
      "outputs": []
    },
    {
      "cell_type": "code",
      "source": [
        "tf.multiply(random_tensor, random_tensor)"
      ],
      "metadata": {
        "id": "pNw5coKHeiEY"
      },
      "execution_count": null,
      "outputs": []
    },
    {
      "cell_type": "code",
      "source": [
        "X = tf.constant([[1,2],\n",
        "                 [3,4],\n",
        "                 [5,6]])\n",
        "Y = tf.constant([[7,8],\n",
        "                 [9,10],\n",
        "                 [11,12]])\n",
        "tf.multiply(X,Y)"
      ],
      "metadata": {
        "id": "PpnG8pe9h-NZ"
      },
      "execution_count": null,
      "outputs": []
    },
    {
      "cell_type": "code",
      "source": [
        "z = tf.multiply(X,Y)\n",
        "tf.reshape(z, shape=(2,3))"
      ],
      "metadata": {
        "id": "KFGIlHrvh9_h"
      },
      "execution_count": null,
      "outputs": []
    },
    {
      "cell_type": "code",
      "source": [],
      "metadata": {
        "id": "dsyZcYDOh9fP"
      },
      "execution_count": null,
      "outputs": []
    },
    {
      "cell_type": "markdown",
      "metadata": {
        "id": "ee9e9f0d"
      },
      "source": [
        "## Dot Product vs. Matrix Multiplication\n",
        "\n",
        "The dot product and matrix multiplication are related but distinct operations.\n",
        "\n",
        "**Dot Product:**\n",
        "\n",
        "*   The dot product is an operation on two equal-length sequences of numbers.\n",
        "*   It results in a single scalar value.\n",
        "*   Geometrically, it's the product of the Euclidean magnitudes of the two vectors and the cosine of the angle between them.\n",
        "\n",
        "**Matrix Multiplication:**\n",
        "\n",
        "*   Matrix multiplication is an operation on two matrices.\n",
        "*   It results in a new matrix.\n",
        "*   For matrix multiplication to be possible, the number of columns in the first matrix must equal the number of rows in the second matrix.\n",
        "*   Each element in the resulting matrix is the dot product of a row from the first matrix and a column from the second matrix."
      ]
    },
    {
      "cell_type": "code",
      "metadata": {
        "id": "e6196e51"
      },
      "source": [
        "# Example of Dot Product\n",
        "vector_a = tf.constant([1, 2, 3])\n",
        "vector_b = tf.constant([4, 5, 6])\n",
        "\n",
        "dot_product = tf.reduce_sum(vector_a * vector_b)\n",
        "print(\"Dot Product:\", dot_product)"
      ],
      "execution_count": null,
      "outputs": []
    },
    {
      "cell_type": "code",
      "metadata": {
        "id": "ce6684ea"
      },
      "source": [
        "# Example of Matrix Multiplication\n",
        "matrix_a = tf.constant([[1, 2],\n",
        "                        [3, 4]])\n",
        "matrix_b = tf.constant([[5, 6],\n",
        "                        [7, 8]])\n",
        "\n",
        "matrix_multiply = tf.matmul(matrix_a, matrix_b)\n",
        "print(\"Matrix Multiplication Result:\")\n",
        "display(matrix_multiply)"
      ],
      "execution_count": null,
      "outputs": []
    },
    {
      "cell_type": "code",
      "source": [
        "X,Y"
      ],
      "metadata": {
        "colab": {
          "base_uri": "https://localhost:8080/"
        },
        "id": "X3uIbhoXk1Fb",
        "outputId": "f7160dac-7fe5-4707-8d44-1dd47444a27c"
      },
      "execution_count": null,
      "outputs": [
        {
          "output_type": "execute_result",
          "data": {
            "text/plain": [
              "(<tf.Tensor: shape=(3, 2), dtype=int32, numpy=\n",
              " array([[1, 2],\n",
              "        [3, 4],\n",
              "        [5, 6]], dtype=int32)>,\n",
              " <tf.Tensor: shape=(3, 2), dtype=int32, numpy=\n",
              " array([[ 7,  8],\n",
              "        [ 9, 10],\n",
              "        [11, 12]], dtype=int32)>)"
            ]
          },
          "metadata": {},
          "execution_count": 21
        }
      ]
    },
    {
      "cell_type": "code",
      "source": [
        "tf.transpose(X)"
      ],
      "metadata": {
        "id": "xD0Iues7k4Kh"
      },
      "execution_count": null,
      "outputs": []
    },
    {
      "cell_type": "code",
      "source": [
        "tf.matmul(tf.transpose(X), Y)"
      ],
      "metadata": {
        "id": "3P_X7sxMk3-A"
      },
      "execution_count": null,
      "outputs": []
    },
    {
      "cell_type": "code",
      "source": [
        "F = tf.constant(np.random.random(10))\n",
        "F, tf.argmax(F), tf.argmin(F)"
      ],
      "metadata": {
        "id": "QxxzGGTfk3wt"
      },
      "execution_count": null,
      "outputs": []
    },
    {
      "cell_type": "code",
      "source": [],
      "metadata": {
        "id": "w57oLRZqlNww"
      },
      "execution_count": null,
      "outputs": []
    },
    {
      "cell_type": "code",
      "source": [],
      "metadata": {
        "id": "s0KnOhBmlNjV"
      },
      "execution_count": null,
      "outputs": []
    }
  ]
}