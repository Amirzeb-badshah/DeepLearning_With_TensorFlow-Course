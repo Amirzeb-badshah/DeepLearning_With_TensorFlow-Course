{
  "metadata": {
    "kernelspec": {
      "name": "python",
      "display_name": "Python (Pyodide)",
      "language": "python"
    },
    "language_info": {
      "codemirror_mode": {
        "name": "python",
        "version": 3
      },
      "file_extension": ".py",
      "mimetype": "text/x-python",
      "name": "python",
      "nbconvert_exporter": "python",
      "pygments_lexer": "ipython3",
      "version": "3.8"
    },
    "colab": {
      "provenance": []
    }
  },
  "nbformat_minor": 5,
  "nbformat": 4,
  "cells": [
    {
      "cell_type": "markdown",
      "source": [
        "## Convolutional Neural Networks and Computer Vision with TensorFlow\n",
        "\n",
        "* Mostly Convolutional Neural Networks are used to analyze Images and based on the analysis make predictions.\n",
        "\n",
        "* For Example:- Classify wither an image is of pizza or steak and detect wither a particular object appears in the image or not."
      ],
      "metadata": {
        "id": "DpIhaqcA3IlO"
      },
      "id": "DpIhaqcA3IlO"
    },
    {
      "id": "eff47449-3e44-4e82-ad55-308db042dd99",
      "cell_type": "code",
      "source": [
        "import tensorflow as tf\n",
        "import pandas as pd\n",
        "import numpy as np\n",
        "import matplotlib.pyplot as plt"
      ],
      "metadata": {
        "trusted": true,
        "id": "eff47449-3e44-4e82-ad55-308db042dd99"
      },
      "outputs": [],
      "execution_count": 2
    },
    {
      "cell_type": "code",
      "source": [],
      "metadata": {
        "id": "5bGW_PUY3-S_"
      },
      "id": "5bGW_PUY3-S_",
      "execution_count": null,
      "outputs": []
    },
    {
      "cell_type": "code",
      "source": [],
      "metadata": {
        "id": "CuUtKIgE3-LX"
      },
      "id": "CuUtKIgE3-LX",
      "execution_count": null,
      "outputs": []
    },
    {
      "cell_type": "code",
      "source": [],
      "metadata": {
        "id": "GlcuI7dn3-Df"
      },
      "id": "GlcuI7dn3-Df",
      "execution_count": null,
      "outputs": []
    },
    {
      "cell_type": "code",
      "source": [],
      "metadata": {
        "id": "iitrcP0V397d"
      },
      "id": "iitrcP0V397d",
      "execution_count": null,
      "outputs": []
    },
    {
      "cell_type": "code",
      "source": [],
      "metadata": {
        "id": "7l9AEd1p39yO"
      },
      "id": "7l9AEd1p39yO",
      "execution_count": null,
      "outputs": []
    }
  ]
}