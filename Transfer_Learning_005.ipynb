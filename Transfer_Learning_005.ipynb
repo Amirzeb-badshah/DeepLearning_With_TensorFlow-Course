{
  "metadata": {
    "kernelspec": {
      "display_name": "Python 3",
      "name": "python3"
    },
    "language_info": {
      "name": "python",
      "version": "3.11.13",
      "mimetype": "text/x-python",
      "codemirror_mode": {
        "name": "ipython",
        "version": 3
      },
      "pygments_lexer": "ipython3",
      "nbconvert_exporter": "python",
      "file_extension": ".py"
    },
    "kaggle": {
      "accelerator": "none",
      "dataSources": [],
      "dockerImageVersionId": 31089,
      "isInternetEnabled": false,
      "language": "python",
      "sourceType": "notebook",
      "isGpuEnabled": false
    },
    "colab": {
      "provenance": [],
      "gpuType": "T4"
    },
    "accelerator": "GPU"
  },
  "nbformat_minor": 0,
  "nbformat": 4,
  "cells": [
    {
      "cell_type": "code",
      "source": [
        "import tensorflow as tf\n",
        "import pandas as pd\n",
        "import numpy as np\n",
        "import matplotlib.pyplot as plt"
      ],
      "metadata": {
        "trusted": true,
        "execution": {
          "iopub.status.busy": "2025-09-17T06:47:23.876758Z",
          "iopub.execute_input": "2025-09-17T06:47:23.877071Z",
          "iopub.status.idle": "2025-09-17T06:47:23.890789Z",
          "shell.execute_reply.started": "2025-09-17T06:47:23.877040Z",
          "shell.execute_reply": "2025-09-17T06:47:23.887926Z"
        },
        "id": "It3-4Qw_cBQ6"
      },
      "outputs": [],
      "execution_count": 1
    },
    {
      "cell_type": "markdown",
      "source": [
        "**Transfer Learning with TensorFlow: Feature Extraction**\n",
        "\n",
        "To improve models we can use several tenchniques like\n",
        "- Adding More Layers\n",
        "- Changing the Learning Rate\n",
        "- Adjusting the Number of Neurons Per Layer\n",
        "\n",
        "However, instead of above we can use **Transfer Learning**.\n",
        "- **Transfer Learning** is taking the patterns (also called weights) from another model and applying it on new problem.\n",
        "\n",
        "Two main benefits of using Transfer Learning.\n",
        "- Leverage existing Neural Network Architecture proven to work on problems similar to our own\n",
        "- Using **Already Learned Patterns** on similar data to our own\n",
        "\n",
        "So, instead of hand-crafting our own **Neural Network Architecture or building them from scratch** we can utilize models which have worked for others.\n",
        "\n",
        "We can take the patterns a model has learned from datasets such as **ImageNet** and use it as a foundational model.\n",
        "\n",
        "**What we will Learn**\n",
        "- Use a smaller dataset to experiment faster (10% of training samples of 10 classes of food)\n",
        "- Build a Transfer Learning Feature Extraction model using **TensorFlow Hub**\n",
        "- Introduce a TesnorBoard Callback to track model training results\n",
        "\n",
        "**Transfer Learning with TensorFlow Hub: Getting great results with only 10% of data**\n",
        "\n",
        "- **TensorFlow Hub:-** is a repository for existing model components. You can import and use a **Fully Trained Model** using a *URL*\n",
        "\n",
        "Using the **Pre-trained Models** we can get the results of a fully trained model with only 10% of data.\n",
        "\n",
        "**Transfer Learning often allows you to get great results with less data**\n",
        "\n",
        "\n",
        "Let's download 10% of training data from **10_food_classes** dataset and use it to train a food image classifier on it.\n",
        "\n",
        "\n",
        "\n",
        "\n",
        "\n",
        "\n",
        "\n",
        "\n",
        "\n",
        "\n",
        "\n",
        "\n",
        "\n"
      ],
      "metadata": {
        "id": "n919sal9cUXp"
      }
    },
    {
      "cell_type": "code",
      "source": [
        "!wget https://storage.googleapis.com/ztm_tf_course/food_vision/10_food_classes_10_percent.zip"
      ],
      "metadata": {
        "colab": {
          "base_uri": "https://localhost:8080/"
        },
        "id": "5VyldLoxcStk",
        "outputId": "b9a2610d-3493-4672-9d7b-8374fd1d2bb4"
      },
      "execution_count": 2,
      "outputs": [
        {
          "output_type": "stream",
          "name": "stdout",
          "text": [
            "--2025-09-23 09:30:33--  https://storage.googleapis.com/ztm_tf_course/food_vision/10_food_classes_10_percent.zip\n",
            "Resolving storage.googleapis.com (storage.googleapis.com)... 142.250.141.207, 74.125.137.207, 142.250.101.207, ...\n",
            "Connecting to storage.googleapis.com (storage.googleapis.com)|142.250.141.207|:443... connected.\n",
            "HTTP request sent, awaiting response... 200 OK\n",
            "Length: 168546183 (161M) [application/zip]\n",
            "Saving to: ‘10_food_classes_10_percent.zip’\n",
            "\n",
            "10_food_classes_10_ 100%[===================>] 160.74M   181MB/s    in 0.9s    \n",
            "\n",
            "2025-09-23 09:30:34 (181 MB/s) - ‘10_food_classes_10_percent.zip’ saved [168546183/168546183]\n",
            "\n"
          ]
        }
      ]
    },
    {
      "cell_type": "code",
      "source": [
        "import zipfile\n",
        "zip_ref = zipfile.ZipFile(\"10_food_classes_10_percent.zip\")\n",
        "zip_ref.extractall()\n",
        "zip_ref.close()"
      ],
      "metadata": {
        "id": "BB5IpZFIleoc"
      },
      "execution_count": 6,
      "outputs": []
    },
    {
      "cell_type": "code",
      "source": [
        "import os\n",
        "\n",
        "for dirpath, dirnames, filenames in os.walk(\"10_food_classes_10_percent\"):\n",
        "  print(f\"There are {len(dirnames)} directories and {len(filenames)} images in '{dirpath}'.\")\n"
      ],
      "metadata": {
        "colab": {
          "base_uri": "https://localhost:8080/"
        },
        "id": "_hccRg2Vledy",
        "outputId": "9e5c2b6d-df90-4d4d-e5ac-fdd90aeadbf1"
      },
      "execution_count": 7,
      "outputs": [
        {
          "output_type": "stream",
          "name": "stdout",
          "text": [
            "There are 2 directories and 0 images in '10_food_classes_10_percent'.\n",
            "There are 10 directories and 0 images in '10_food_classes_10_percent/train'.\n",
            "There are 0 directories and 75 images in '10_food_classes_10_percent/train/chicken_wings'.\n",
            "There are 0 directories and 75 images in '10_food_classes_10_percent/train/ice_cream'.\n",
            "There are 0 directories and 75 images in '10_food_classes_10_percent/train/pizza'.\n",
            "There are 0 directories and 75 images in '10_food_classes_10_percent/train/steak'.\n",
            "There are 0 directories and 75 images in '10_food_classes_10_percent/train/hamburger'.\n",
            "There are 0 directories and 75 images in '10_food_classes_10_percent/train/grilled_salmon'.\n",
            "There are 0 directories and 75 images in '10_food_classes_10_percent/train/chicken_curry'.\n",
            "There are 0 directories and 75 images in '10_food_classes_10_percent/train/sushi'.\n",
            "There are 0 directories and 75 images in '10_food_classes_10_percent/train/ramen'.\n",
            "There are 0 directories and 75 images in '10_food_classes_10_percent/train/fried_rice'.\n",
            "There are 10 directories and 0 images in '10_food_classes_10_percent/test'.\n",
            "There are 0 directories and 250 images in '10_food_classes_10_percent/test/chicken_wings'.\n",
            "There are 0 directories and 250 images in '10_food_classes_10_percent/test/ice_cream'.\n",
            "There are 0 directories and 250 images in '10_food_classes_10_percent/test/pizza'.\n",
            "There are 0 directories and 250 images in '10_food_classes_10_percent/test/steak'.\n",
            "There are 0 directories and 250 images in '10_food_classes_10_percent/test/hamburger'.\n",
            "There are 0 directories and 250 images in '10_food_classes_10_percent/test/grilled_salmon'.\n",
            "There are 0 directories and 250 images in '10_food_classes_10_percent/test/chicken_curry'.\n",
            "There are 0 directories and 250 images in '10_food_classes_10_percent/test/sushi'.\n",
            "There are 0 directories and 250 images in '10_food_classes_10_percent/test/ramen'.\n",
            "There are 0 directories and 250 images in '10_food_classes_10_percent/test/fried_rice'.\n"
          ]
        }
      ]
    },
    {
      "cell_type": "markdown",
      "source": [
        "**Creating Data Loaders (Preparing the Data)**\n",
        "\n",
        "- Create the **ImageDataGenerator** class using the **flow_from_directory** method to load in our images."
      ],
      "metadata": {
        "id": "2vwq043HneRL"
      }
    },
    {
      "cell_type": "code",
      "source": [
        "from tensorflow.keras.preprocessing.image import ImageDataGenerator\n",
        "\n",
        "IMAGE_SHAPE = (224, 224)\n",
        "BATCH_SIZE = 32\n",
        "\n",
        "train_dir = \"10_food_classes_10_percent/train/\"\n",
        "test_dir = \"10_food_classes_10_percent/test/\"\n",
        "\n",
        "train_datagen = ImageDataGenerator(rescale=1/255.)\n",
        "test_datagen = ImageDataGenerator(rescale=1/255.)\n",
        "\n",
        "print(\"Training Images\")\n",
        "train_data_10_percent = train_datagen.flow_from_directory(train_dir,\n",
        "                                                          target_size=IMAGE_SHAPE,\n",
        "                                                          batch_size=BATCH_SIZE,\n",
        "                                                          class_mode=\"categorical\"\n",
        "                                                          )\n",
        "\n",
        "\n",
        "print(\"Testing Images\")\n",
        "test_data = test_datagen.flow_from_directory(test_dir,\n",
        "                                             target_size=IMAGE_SHAPE,\n",
        "                                             batch_size=BATCH_SIZE,\n",
        "                                             class_mode=\"categorical\"\n",
        "                                             )\n",
        "\n"
      ],
      "metadata": {
        "colab": {
          "base_uri": "https://localhost:8080/"
        },
        "id": "wHc9cw-8leaS",
        "outputId": "159fac75-4246-4581-b164-292ca0918187"
      },
      "execution_count": 8,
      "outputs": [
        {
          "output_type": "stream",
          "name": "stdout",
          "text": [
            "Training Images\n",
            "Found 750 images belonging to 10 classes.\n",
            "Testing Images\n",
            "Found 2500 images belonging to 10 classes.\n"
          ]
        }
      ]
    },
    {
      "cell_type": "markdown",
      "source": [
        "**Setting Up Callbacks (Things to Run While our Model Trains)**\n",
        "\n",
        "**Callbacks** are extra functionality that you can add to your models to be performed during or after training. Some of the most important callbacks are\n",
        "\n",
        "- **Experiment Tracking with TensorBoard:-** Log the performance of multiple models and then view and compare these models in a visual way on **TensorBoard**. **TensorBoard** is a dashboard for inspecting **Neural Network Parameters**\n",
        "\n",
        "- **Model CheckPointing:-** Save your model as you train so that you can stop training if needed and continue off where you left. It is helpful if training takes a long time and cannot be done in one sitting.\n",
        "\n",
        "- **Early Stopping:-** Leave your model training for a arbitary amount of time and have it stop training automatically when it ceases to improve. It is helpful when you have a large dataset and do not know how long training will take.\n",
        "\n",
        "- The TensorBoard Callback can be accessed using\n",
        "**tf.keras.callbacks.TensorBoard()**. - The main function of this is saving model's training performance metrics to a specified **log_dir**.\n",
        "\n",
        "- By default, logs are recorded every epoch using the **update_freq='epoch'** parameter. This is a good default but can slow down **Model Training.**\n",
        "\n",
        "\n",
        "\n"
      ],
      "metadata": {
        "id": "Wc7otuv_pQRW"
      }
    },
    {
      "cell_type": "code",
      "source": [
        "# Creating a tensorboard callback\n",
        "\n",
        "import datetime\n",
        "def create_tensorboard_callback(dir_name, experiment_name):\n",
        "  log_dir = dir_name + \"/\" + experiment_name + \"/\" + datetime.datetime.now().strftime(\"%Y%m%d-%H%M%S\")\n",
        "  tensorboard_callback = tf.keras.callbacks.TensorBoard(log_dir=log_dir)\n",
        "  print(f\"Saving TensorBoard log files to: {log_dir}\")\n",
        "  return tensorboard_callback\n"
      ],
      "metadata": {
        "id": "lt9_L9wHleQ7"
      },
      "execution_count": 9,
      "outputs": []
    },
    {
      "cell_type": "markdown",
      "source": [
        "- We will save the **Model** to a directory [dir_name] / [experiment_name] / [current_timestamp] where\n",
        "- **dir_name:-** is the overall logs directory\n",
        "- **experiment_name:-** is the particular experiment\n",
        "- **current_timestamp:-** is the time the experiment started based on Python time *datatime.datetime().now()"
      ],
      "metadata": {
        "id": "M1wTBkSs2VWx"
      }
    },
    {
      "cell_type": "markdown",
      "source": [
        "**Creating Models Using TensorFlow Hub**\n",
        "\n",
        "- In past we used to create models from scratch\n",
        "- In here, majority of our model's layers are going to come from **TensorFlow Hub**\n",
        "\n",
        "We will use two models from **TensorFlow Hub**\n",
        "\n",
        "- 1.**ResNetV2** - a state of the art computer vision model architecture from 2016\n",
        "- 2.**EfficientNet**- a state of the art computer vision model from 2019\n",
        "\n",
        "By the state of art we mean that majority of our modeles have achieved the lowest error rate on **ImageNet (ILSVRC-2012-CLS)**, the gold standard of computer vision benchmarks.\n",
        "\n",
        "Steps for finding models on **TensorFlow Hub**\n",
        "1. Got to **tfhub.dev**\n",
        "2. Select the problem domain like **Image**\n",
        "3. Remove all **Problem Domain** filters except for the one you are working on\n",
        "4. You will see a list of models, select the one you want to use\n",
        "\n",
        "**I see many models, then which one is to be used**\n",
        "\n",
        "- You can find a list of state of the art models on **paperswithcode.com**, a resource for collecting the latest in deep learning paper results\n",
        "\n",
        "- Since, our target is **Image Classification** so we would use the model that performed best on **ImageNet.**\n",
        "\n",
        "- On **tfhub.dev** you will find various architectures like **EfficientNetB4** which is better than **EfficientNetB0** but larger models take alot of time to compute.\n"
      ],
      "metadata": {
        "id": "zWUKJMzLZ58L"
      }
    },
    {
      "cell_type": "markdown",
      "source": [
        "We will use feature vectors URLs of two common computer vision architectures, **EfficientNetBO (2019)** and **ResNetV250 (2016)**\n",
        "\n",
        "Why we select only **Feature Vectors**.\n",
        "Because Transfer Learning come into play as **Feature Extraction** and **Fine Tuning**\n",
        "\n",
        "1. In **transfer Learning** we take a pre-trained models as it is and apply it to our task without changes. For example, if your model is trained on **ImageNet** dataset that contains **1000** different classes of images. So, if we pass a single image to this model it will produce **1000** different outputs. It can be useful if we want to classify **1000** images.\n",
        "\n",
        "2. **Feature Extraction Transfer Learning** is a process where you take the underlying patterns (also called weights) a **pretrained Model** has learned and adjust its output to be more suited to your problem.\n",
        "For example, If your model had 236 different layers (EfficientNetBO has 236 layers) and the top layer outputs **1000** classes because it was pretrained on **ImageNet.**To adjust it to your problem we might remove the top layer and replace it with our own having the right number of classes. The most important part here is that **only the top few layers become trainable, the rest remain frozen.**So, the underlying patterns remain in the rest of layers and we can utilize it for our problem.\n",
        "\n",
        "3. **Fine-Tuning Transfer Learning:-** is when you take the underlying patterns (also called weights) of a pre-trained model and adjust them to your problem. This means **training some, many or all layers** in pretrained model. This is applicable in scenarios where you have relatively large dataset and **your data is slightly different** from the original data on which the model was trained.\n",
        "\n",
        "\n",
        "A common practice is to **Freeze** all the learned patterns in bottom layers of a **pretrained model** so that they become **un-trainable**. Then, the top 2-3 layers of the **pre-trained** model can adjust its output to our customer data (**feature extraction**).\n",
        "As you have trained the **top layers** you can gradually **unfreeze** more and more layers and run the training process on your own data to further **fine-tune**it.\n",
        "\n",
        "- **Lower Layers** in a computer vision model learns **large features**. In a cat and dog classification they might learn the **outline of legs** while the layers closer to the output might learn **shape of the teeth.**\n",
        "\n",
        "\n",
        "So, in **Feature Extraction** only the top 2-3 layers change but in **Fine Tuning Model** many or all of the original model get changed.\n",
        "\n",
        "\n",
        "\n"
      ],
      "metadata": {
        "id": "nc2Q_27koE2Q"
      }
    },
    {
      "cell_type": "code",
      "source": [
        "import tensorflow as tf\n",
        "import tensorflow_hub as hub\n",
        "from tensorflow.keras import layers"
      ],
      "metadata": {
        "id": "cfuo9Vl8leIA"
      },
      "execution_count": 10,
      "outputs": []
    },
    {
      "cell_type": "code",
      "source": [
        "# Resnet 50 V2 feature vector\n",
        "resnet_url = \"https://tfhub.dev/google/imagenet/resnet_v2_50/feature_vector/4\"\n",
        "\n",
        "# Original: EfficientNetB0 feature vector (version 1)\n",
        "efficientnet_url = \"https://tfhub.dev/tensorflow/efficientnet/b0/feature-vector/1\"\n",
        "\n",
        "# # New: EfficientNetB0 feature vector (version 2)\n",
        "# efficientnet_url = \"https://tfhub.dev/google/imagenet/efficientnet_v2_imagenet1k_b0/feature_vector/2\"\n"
      ],
      "metadata": {
        "id": "98_y2fW9ld_Z"
      },
      "execution_count": 11,
      "outputs": []
    },
    {
      "cell_type": "markdown",
      "source": [
        "- The **URLs** are link to a saved **pretrained models** on **TensorFlow Hub**.\n",
        "- When we use it in our model, the model will automatically downloaded for us to use\n",
        "- We will use **KerasLayer()** inside the TensorFlow Hub library."
      ],
      "metadata": {
        "id": "Vpry_f-YzbJS"
      }
    },
    {
      "cell_type": "markdown",
      "source": [
        "- The function below helps in creating **Model**.\n",
        "- Our first model will be **ResNetV250** architecture as our feature extraction layer\n",
        "- Once our model is instantiated, we will compile it using **categorical_crossentropy** as our loss function, **Adam Optimizer** and **Accuracy** as metric."
      ],
      "metadata": {
        "id": "FY2i_Kc31LC6"
      }
    },
    {
      "cell_type": "code",
      "source": [
        "import tensorflow as tf\n",
        "import tensorflow_hub as hub\n",
        "from tensorflow import keras\n",
        "from tensorflow.keras import layers\n",
        "\n",
        "# Define constants\n",
        "IMAGE_SHAPE = (224, 224)\n",
        "NUM_CLASSES = 10  # Replace with the actual number of classes in your dataset\n",
        "RESNET_URL = \"https://tfhub.dev/google/imagenet/resnet_v2_50/feature_vector/4\"\n",
        "\n",
        "# Custom layer to wrap hub.KerasLayer\n",
        "class HubLayer(tf.keras.layers.Layer):\n",
        "    def __init__(self, model_url, **kwargs):\n",
        "        super(HubLayer, self).__init__(**kwargs)\n",
        "        self.hub_layer = hub.KerasLayer(model_url, trainable=False)\n",
        "\n",
        "    def call(self, inputs):\n",
        "        return self.hub_layer(inputs)\n",
        "\n",
        "def create_model_tf_hub_fixed(model_url, num_classes=NUM_CLASSES):\n",
        "    # Define input layer\n",
        "    inputs = keras.Input(shape=IMAGE_SHAPE + (3,))\n",
        "\n",
        "    # Apply custom Hub layer\n",
        "    x = HubLayer(model_url)(inputs)\n",
        "\n",
        "    # Add dropout and dense layers\n",
        "    x = layers.Dropout(0.2)(x)\n",
        "    outputs = layers.Dense(num_classes, activation='softmax')(x)\n",
        "\n",
        "    # Create model\n",
        "    model = keras.Model(inputs, outputs)\n",
        "\n",
        "    return model\n",
        "\n",
        "# Clear Keras session\n",
        "tf.keras.backend.clear_session()\n",
        "\n",
        "# Disable mixed precision\n",
        "tf.keras.mixed_precision.set_global_policy('float32')\n",
        "\n",
        "# Create and compile the model\n",
        "resnet_model = create_model_tf_hub_fixed(RESNET_URL, num_classes=NUM_CLASSES)\n",
        "resnet_model.compile(\n",
        "    loss=\"categorical_crossentropy\",\n",
        "    optimizer=tf.keras.optimizers.Adam(),\n",
        "    metrics=[\"accuracy\"]\n",
        ")\n",
        "\n",
        "# Display model summary\n",
        "resnet_model.summary()\n",
        "\n",
        "\n"
      ],
      "metadata": {
        "id": "XOZekZ2woAIV",
        "colab": {
          "base_uri": "https://localhost:8080/",
          "height": 267
        },
        "outputId": "3e7f90c6-107e-4f8f-e6cb-14ee51e07563"
      },
      "execution_count": 12,
      "outputs": [
        {
          "output_type": "display_data",
          "data": {
            "text/plain": [
              "\u001b[1mModel: \"functional\"\u001b[0m\n"
            ],
            "text/html": [
              "<pre style=\"white-space:pre;overflow-x:auto;line-height:normal;font-family:Menlo,'DejaVu Sans Mono',consolas,'Courier New',monospace\"><span style=\"font-weight: bold\">Model: \"functional\"</span>\n",
              "</pre>\n"
            ]
          },
          "metadata": {}
        },
        {
          "output_type": "display_data",
          "data": {
            "text/plain": [
              "┏━━━━━━━━━━━━━━━━━━━━━━━━━━━━━━━━━┳━━━━━━━━━━━━━━━━━━━━━━━━┳━━━━━━━━━━━━━━━┓\n",
              "┃\u001b[1m \u001b[0m\u001b[1mLayer (type)                   \u001b[0m\u001b[1m \u001b[0m┃\u001b[1m \u001b[0m\u001b[1mOutput Shape          \u001b[0m\u001b[1m \u001b[0m┃\u001b[1m \u001b[0m\u001b[1m      Param #\u001b[0m\u001b[1m \u001b[0m┃\n",
              "┡━━━━━━━━━━━━━━━━━━━━━━━━━━━━━━━━━╇━━━━━━━━━━━━━━━━━━━━━━━━╇━━━━━━━━━━━━━━━┩\n",
              "│ input_layer (\u001b[38;5;33mInputLayer\u001b[0m)        │ (\u001b[38;5;45mNone\u001b[0m, \u001b[38;5;34m224\u001b[0m, \u001b[38;5;34m224\u001b[0m, \u001b[38;5;34m3\u001b[0m)    │             \u001b[38;5;34m0\u001b[0m │\n",
              "├─────────────────────────────────┼────────────────────────┼───────────────┤\n",
              "│ hub_layer (\u001b[38;5;33mHubLayer\u001b[0m)            │ (\u001b[38;5;45mNone\u001b[0m, \u001b[38;5;34m2048\u001b[0m)           │             \u001b[38;5;34m0\u001b[0m │\n",
              "├─────────────────────────────────┼────────────────────────┼───────────────┤\n",
              "│ dropout (\u001b[38;5;33mDropout\u001b[0m)               │ (\u001b[38;5;45mNone\u001b[0m, \u001b[38;5;34m2048\u001b[0m)           │             \u001b[38;5;34m0\u001b[0m │\n",
              "├─────────────────────────────────┼────────────────────────┼───────────────┤\n",
              "│ dense (\u001b[38;5;33mDense\u001b[0m)                   │ (\u001b[38;5;45mNone\u001b[0m, \u001b[38;5;34m10\u001b[0m)             │        \u001b[38;5;34m20,490\u001b[0m │\n",
              "└─────────────────────────────────┴────────────────────────┴───────────────┘\n"
            ],
            "text/html": [
              "<pre style=\"white-space:pre;overflow-x:auto;line-height:normal;font-family:Menlo,'DejaVu Sans Mono',consolas,'Courier New',monospace\">┏━━━━━━━━━━━━━━━━━━━━━━━━━━━━━━━━━┳━━━━━━━━━━━━━━━━━━━━━━━━┳━━━━━━━━━━━━━━━┓\n",
              "┃<span style=\"font-weight: bold\"> Layer (type)                    </span>┃<span style=\"font-weight: bold\"> Output Shape           </span>┃<span style=\"font-weight: bold\">       Param # </span>┃\n",
              "┡━━━━━━━━━━━━━━━━━━━━━━━━━━━━━━━━━╇━━━━━━━━━━━━━━━━━━━━━━━━╇━━━━━━━━━━━━━━━┩\n",
              "│ input_layer (<span style=\"color: #0087ff; text-decoration-color: #0087ff\">InputLayer</span>)        │ (<span style=\"color: #00d7ff; text-decoration-color: #00d7ff\">None</span>, <span style=\"color: #00af00; text-decoration-color: #00af00\">224</span>, <span style=\"color: #00af00; text-decoration-color: #00af00\">224</span>, <span style=\"color: #00af00; text-decoration-color: #00af00\">3</span>)    │             <span style=\"color: #00af00; text-decoration-color: #00af00\">0</span> │\n",
              "├─────────────────────────────────┼────────────────────────┼───────────────┤\n",
              "│ hub_layer (<span style=\"color: #0087ff; text-decoration-color: #0087ff\">HubLayer</span>)            │ (<span style=\"color: #00d7ff; text-decoration-color: #00d7ff\">None</span>, <span style=\"color: #00af00; text-decoration-color: #00af00\">2048</span>)           │             <span style=\"color: #00af00; text-decoration-color: #00af00\">0</span> │\n",
              "├─────────────────────────────────┼────────────────────────┼───────────────┤\n",
              "│ dropout (<span style=\"color: #0087ff; text-decoration-color: #0087ff\">Dropout</span>)               │ (<span style=\"color: #00d7ff; text-decoration-color: #00d7ff\">None</span>, <span style=\"color: #00af00; text-decoration-color: #00af00\">2048</span>)           │             <span style=\"color: #00af00; text-decoration-color: #00af00\">0</span> │\n",
              "├─────────────────────────────────┼────────────────────────┼───────────────┤\n",
              "│ dense (<span style=\"color: #0087ff; text-decoration-color: #0087ff\">Dense</span>)                   │ (<span style=\"color: #00d7ff; text-decoration-color: #00d7ff\">None</span>, <span style=\"color: #00af00; text-decoration-color: #00af00\">10</span>)             │        <span style=\"color: #00af00; text-decoration-color: #00af00\">20,490</span> │\n",
              "└─────────────────────────────────┴────────────────────────┴───────────────┘\n",
              "</pre>\n"
            ]
          },
          "metadata": {}
        },
        {
          "output_type": "display_data",
          "data": {
            "text/plain": [
              "\u001b[1m Total params: \u001b[0m\u001b[38;5;34m20,490\u001b[0m (80.04 KB)\n"
            ],
            "text/html": [
              "<pre style=\"white-space:pre;overflow-x:auto;line-height:normal;font-family:Menlo,'DejaVu Sans Mono',consolas,'Courier New',monospace\"><span style=\"font-weight: bold\"> Total params: </span><span style=\"color: #00af00; text-decoration-color: #00af00\">20,490</span> (80.04 KB)\n",
              "</pre>\n"
            ]
          },
          "metadata": {}
        },
        {
          "output_type": "display_data",
          "data": {
            "text/plain": [
              "\u001b[1m Trainable params: \u001b[0m\u001b[38;5;34m20,490\u001b[0m (80.04 KB)\n"
            ],
            "text/html": [
              "<pre style=\"white-space:pre;overflow-x:auto;line-height:normal;font-family:Menlo,'DejaVu Sans Mono',consolas,'Courier New',monospace\"><span style=\"font-weight: bold\"> Trainable params: </span><span style=\"color: #00af00; text-decoration-color: #00af00\">20,490</span> (80.04 KB)\n",
              "</pre>\n"
            ]
          },
          "metadata": {}
        },
        {
          "output_type": "display_data",
          "data": {
            "text/plain": [
              "\u001b[1m Non-trainable params: \u001b[0m\u001b[38;5;34m0\u001b[0m (0.00 B)\n"
            ],
            "text/html": [
              "<pre style=\"white-space:pre;overflow-x:auto;line-height:normal;font-family:Menlo,'DejaVu Sans Mono',consolas,'Courier New',monospace\"><span style=\"font-weight: bold\"> Non-trainable params: </span><span style=\"color: #00af00; text-decoration-color: #00af00\">0</span> (0.00 B)\n",
              "</pre>\n"
            ]
          },
          "metadata": {}
        }
      ]
    },
    {
      "cell_type": "markdown",
      "source": [
        "**Adding the CallBack**\n",
        "- A tensorflow **CallBack** adds extra functionality by virtue of which we can track the performance of our model on TensorBoard\n",
        "- The **CallBack** is added in the **fit** method"
      ],
      "metadata": {
        "id": "5xZTf5MbhZDb"
      }
    },
    {
      "cell_type": "code",
      "source": [
        "resnet_history = resnet_model.fit(\n",
        "    train_data_10_percent,\n",
        "    epochs=5,\n",
        "    steps_per_epoch=len(train_data_10_percent),\n",
        "    validation_data=test_data,\n",
        "    validation_steps=len(test_data),\n",
        "    callbacks=[create_tensorboard_callback(dir_name=\"tensorflow_hub\",\n",
        "                                           experiment_name=\"resnet50V2\")]\n",
        ")\n"
      ],
      "metadata": {
        "id": "XSdlwwNMoAE1"
      },
      "execution_count": null,
      "outputs": []
    },
    {
      "cell_type": "markdown",
      "source": [
        "**Transfer Learning with TensorFlow Part 2: Fine-Tuning**\n",
        "\n",
        "- In the section above we saw how could we leverage **Feature Extraction Transfer Learning** to get far better results than building our own models\n",
        "- In **Fine Tuning Transfer Learning** the pre-trained weights from another model are **unfrozen and tweaked** during training to better suit your own data\n",
        "- In the **Feature Extraction Transfer Learning** we train the top **1-3 layers** of a pre-trained model with your own data\n",
        "- In the **Fine-tuning transfer learning** we might train 1 to 3 or more layers of a pre-trained model\n",
        "\n",
        "**Main Difference between Feature Extraction Transfer Learning and Fine Tuning Transfer Learning**\n",
        "- **Feature Extraction Transfer Learning:** You only train only top layers\n",
        "- **Fine Tuning Transfer Learning:** Not only top layers but some other layers beneath can be unfrozen for training."
      ],
      "metadata": {
        "id": "nCLAVDjoq9D0"
      }
    },
    {
      "cell_type": "markdown",
      "source": [
        "**Path Ahead**\n",
        "\n",
        "- Introducing Fine-Tuning: A type of transfer learning to modify a pre-trained model to more suited to your data\n",
        "- Using **Keras Functional API**, a different way to build models in keras\n",
        "- Using smaller dataset to experiment faster\n",
        "- **Data Augmentation:** How to making training diverse without adding any new data"
      ],
      "metadata": {
        "id": "No_HgZd_tV60"
      }
    },
    {
      "cell_type": "markdown",
      "source": [
        "**Helper Functions**"
      ],
      "metadata": {
        "id": "bdlS7A9K_Gtl"
      }
    },
    {
      "cell_type": "code",
      "source": [
        "### We create a bunch of helpful functions throughout the course.\n",
        "### Storing them here so they're easily accessible.\n",
        "\n",
        "import tensorflow as tf\n",
        "\n",
        "# Create a function to import an image and resize it to be able to be used with our model\n",
        "def load_and_prep_image(filename, img_shape=224, scale=True):\n",
        "  \"\"\"\n",
        "  Reads in an image from filename, turns it into a tensor and reshapes into\n",
        "  (224, 224, 3).\n",
        "\n",
        "  Parameters\n",
        "  ----------\n",
        "  filename (str): string filename of target image\n",
        "  img_shape (int): size to resize target image to, default 224\n",
        "  scale (bool): whether to scale pixel values to range(0, 1), default True\n",
        "  \"\"\"\n",
        "  # Read in the image\n",
        "  img = tf.io.read_file(filename)\n",
        "  # Decode it into a tensor\n",
        "  img = tf.image.decode_jpeg(img)\n",
        "  # Resize the image\n",
        "  img = tf.image.resize(img, [img_shape, img_shape])\n",
        "  if scale:\n",
        "    # Rescale the image (get all values between 0 and 1)\n",
        "    return img/255.\n",
        "  else:\n",
        "    return img\n",
        "\n",
        "# Note: The following confusion matrix code is a remix of Scikit-Learn's\n",
        "# plot_confusion_matrix function - https://scikit-learn.org/stable/modules/generated/sklearn.metrics.plot_confusion_matrix.html\n",
        "import itertools\n",
        "import matplotlib.pyplot as plt\n",
        "import numpy as np\n",
        "from sklearn.metrics import confusion_matrix\n",
        "\n",
        "# Our function needs a different name to sklearn's plot_confusion_matrix\n",
        "def make_confusion_matrix(y_true, y_pred, classes=None, figsize=(10, 10), text_size=15, norm=False, savefig=False):\n",
        "  \"\"\"Makes a labelled confusion matrix comparing predictions and ground truth labels.\n",
        "\n",
        "  If classes is passed, confusion matrix will be labelled, if not, integer class values\n",
        "  will be used.\n",
        "\n",
        "  Args:\n",
        "    y_true: Array of truth labels (must be same shape as y_pred).\n",
        "    y_pred: Array of predicted labels (must be same shape as y_true).\n",
        "    classes: Array of class labels (e.g. string form). If `None`, integer labels are used.\n",
        "    figsize: Size of output figure (default=(10, 10)).\n",
        "    text_size: Size of output figure text (default=15).\n",
        "    norm: normalize values or not (default=False).\n",
        "    savefig: save confusion matrix to file (default=False).\n",
        "\n",
        "  Returns:\n",
        "    A labelled confusion matrix plot comparing y_true and y_pred.\n",
        "\n",
        "  Example usage:\n",
        "    make_confusion_matrix(y_true=test_labels, # ground truth test labels\n",
        "                          y_pred=y_preds, # predicted labels\n",
        "                          classes=class_names, # array of class label names\n",
        "                          figsize=(15, 15),\n",
        "                          text_size=10)\n",
        "  \"\"\"\n",
        "  # Create the confustion matrix\n",
        "  cm = confusion_matrix(y_true, y_pred)\n",
        "  cm_norm = cm.astype(\"float\") / cm.sum(axis=1)[:, np.newaxis] # normalize it\n",
        "  n_classes = cm.shape[0] # find the number of classes we're dealing with\n",
        "\n",
        "  # Plot the figure and make it pretty\n",
        "  fig, ax = plt.subplots(figsize=figsize)\n",
        "  cax = ax.matshow(cm, cmap=plt.cm.Blues) # colors will represent how 'correct' a class is, darker == better\n",
        "  fig.colorbar(cax)\n",
        "\n",
        "  # Are there a list of classes?\n",
        "  if classes:\n",
        "    labels = classes\n",
        "  else:\n",
        "    labels = np.arange(cm.shape[0])\n",
        "\n",
        "  # Label the axes\n",
        "  ax.set(title=\"Confusion Matrix\",\n",
        "         xlabel=\"Predicted label\",\n",
        "         ylabel=\"True label\",\n",
        "         xticks=np.arange(n_classes), # create enough axis slots for each class\n",
        "         yticks=np.arange(n_classes),\n",
        "         xticklabels=labels, # axes will labeled with class names (if they exist) or ints\n",
        "         yticklabels=labels)\n",
        "\n",
        "  # Make x-axis labels appear on bottom\n",
        "  ax.xaxis.set_label_position(\"bottom\")\n",
        "  ax.xaxis.tick_bottom()\n",
        "\n",
        "  # Set the threshold for different colors\n",
        "  threshold = (cm.max() + cm.min()) / 2.\n",
        "\n",
        "  # Plot the text on each cell\n",
        "  for i, j in itertools.product(range(cm.shape[0]), range(cm.shape[1])):\n",
        "    if norm:\n",
        "      plt.text(j, i, f\"{cm[i, j]} ({cm_norm[i, j]*100:.1f}%)\",\n",
        "              horizontalalignment=\"center\",\n",
        "              color=\"white\" if cm[i, j] > threshold else \"black\",\n",
        "              size=text_size)\n",
        "    else:\n",
        "      plt.text(j, i, f\"{cm[i, j]}\",\n",
        "              horizontalalignment=\"center\",\n",
        "              color=\"white\" if cm[i, j] > threshold else \"black\",\n",
        "              size=text_size)\n",
        "\n",
        "  # Save the figure to the current working directory\n",
        "  if savefig:\n",
        "    fig.savefig(\"confusion_matrix.png\")\n",
        "\n",
        "# Make a function to predict on images and plot them (works with multi-class)\n",
        "def pred_and_plot(model, filename, class_names):\n",
        "  \"\"\"\n",
        "  Imports an image located at filename, makes a prediction on it with\n",
        "  a trained model and plots the image with the predicted class as the title.\n",
        "  \"\"\"\n",
        "  # Import the target image and preprocess it\n",
        "  img = load_and_prep_image(filename)\n",
        "\n",
        "  # Make a prediction\n",
        "  pred = model.predict(tf.expand_dims(img, axis=0))\n",
        "\n",
        "  # Get the predicted class\n",
        "  if len(pred[0]) > 1: # check for multi-class\n",
        "    pred_class = class_names[pred.argmax()] # if more than one output, take the max\n",
        "  else:\n",
        "    pred_class = class_names[int(tf.round(pred)[0][0])] # if only one output, round\n",
        "\n",
        "  # Plot the image and predicted class\n",
        "  plt.imshow(img)\n",
        "  plt.title(f\"Prediction: {pred_class}\")\n",
        "  plt.axis(False);\n",
        "\n",
        "import datetime\n",
        "\n",
        "def create_tensorboard_callback(dir_name, experiment_name):\n",
        "  \"\"\"\n",
        "  Creates a TensorBoard callback instand to store log files.\n",
        "\n",
        "  Stores log files with the filepath:\n",
        "    \"dir_name/experiment_name/current_datetime/\"\n",
        "\n",
        "  Args:\n",
        "    dir_name: target directory to store TensorBoard log files\n",
        "    experiment_name: name of experiment directory (e.g. efficientnet_model_1)\n",
        "  \"\"\"\n",
        "  log_dir = dir_name + \"/\" + experiment_name + \"/\" + datetime.datetime.now().strftime(\"%Y%m%d-%H%M%S\")\n",
        "  tensorboard_callback = tf.keras.callbacks.TensorBoard(\n",
        "      log_dir=log_dir\n",
        "  )\n",
        "  print(f\"Saving TensorBoard log files to: {log_dir}\")\n",
        "  return tensorboard_callback\n",
        "\n",
        "# Plot the validation and training data separately\n",
        "import matplotlib.pyplot as plt\n",
        "\n",
        "def plot_loss_curves(history):\n",
        "  \"\"\"\n",
        "  Returns separate loss curves for training and validation metrics.\n",
        "\n",
        "  Args:\n",
        "    history: TensorFlow model History object (see: https://www.tensorflow.org/api_docs/python/tf/keras/callbacks/History)\n",
        "  \"\"\"\n",
        "  loss = history.history['loss']\n",
        "  val_loss = history.history['val_loss']\n",
        "\n",
        "  accuracy = history.history['accuracy']\n",
        "  val_accuracy = history.history['val_accuracy']\n",
        "\n",
        "  epochs = range(len(history.history['loss']))\n",
        "\n",
        "  # Plot loss\n",
        "  plt.plot(epochs, loss, label='training_loss')\n",
        "  plt.plot(epochs, val_loss, label='val_loss')\n",
        "  plt.title('Loss')\n",
        "  plt.xlabel('Epochs')\n",
        "  plt.legend()\n",
        "\n",
        "  # Plot accuracy\n",
        "  plt.figure()\n",
        "  plt.plot(epochs, accuracy, label='training_accuracy')\n",
        "  plt.plot(epochs, val_accuracy, label='val_accuracy')\n",
        "  plt.title('Accuracy')\n",
        "  plt.xlabel('Epochs')\n",
        "  plt.legend();\n",
        "\n",
        "def compare_historys(original_history, new_history, initial_epochs=5):\n",
        "    \"\"\"\n",
        "    Compares two TensorFlow model History objects.\n",
        "\n",
        "    Args:\n",
        "      original_history: History object from original model (before new_history)\n",
        "      new_history: History object from continued model training (after original_history)\n",
        "      initial_epochs: Number of epochs in original_history (new_history plot starts from here)\n",
        "    \"\"\"\n",
        "\n",
        "    # Get original history measurements\n",
        "    acc = original_history.history[\"accuracy\"]\n",
        "    loss = original_history.history[\"loss\"]\n",
        "\n",
        "    val_acc = original_history.history[\"val_accuracy\"]\n",
        "    val_loss = original_history.history[\"val_loss\"]\n",
        "\n",
        "    # Combine original history with new history\n",
        "    total_acc = acc + new_history.history[\"accuracy\"]\n",
        "    total_loss = loss + new_history.history[\"loss\"]\n",
        "\n",
        "    total_val_acc = val_acc + new_history.history[\"val_accuracy\"]\n",
        "    total_val_loss = val_loss + new_history.history[\"val_loss\"]\n",
        "\n",
        "    # Make plots\n",
        "    plt.figure(figsize=(8, 8))\n",
        "    plt.subplot(2, 1, 1)\n",
        "    plt.plot(total_acc, label='Training Accuracy')\n",
        "    plt.plot(total_val_acc, label='Validation Accuracy')\n",
        "    plt.plot([initial_epochs-1, initial_epochs-1],\n",
        "              plt.ylim(), label='Start Fine Tuning') # reshift plot around epochs\n",
        "    plt.legend(loc='lower right')\n",
        "    plt.title('Training and Validation Accuracy')\n",
        "\n",
        "    plt.subplot(2, 1, 2)\n",
        "    plt.plot(total_loss, label='Training Loss')\n",
        "    plt.plot(total_val_loss, label='Validation Loss')\n",
        "    plt.plot([initial_epochs-1, initial_epochs-1],\n",
        "              plt.ylim(), label='Start Fine Tuning') # reshift plot around epochs\n",
        "    plt.legend(loc='upper right')\n",
        "    plt.title('Training and Validation Loss')\n",
        "    plt.xlabel('epoch')\n",
        "    plt.show()\n",
        "\n",
        "# Create function to unzip a zipfile into current working directory\n",
        "# (since we're going to be downloading and unzipping a few files)\n",
        "import zipfile\n",
        "\n",
        "def unzip_data(filename):\n",
        "  \"\"\"\n",
        "  Unzips filename into the current working directory.\n",
        "\n",
        "  Args:\n",
        "    filename (str): a filepath to a target zip folder to be unzipped.\n",
        "  \"\"\"\n",
        "  zip_ref = zipfile.ZipFile(filename, \"r\")\n",
        "  zip_ref.extractall()\n",
        "  zip_ref.close()\n",
        "\n",
        "# Walk through an image classification directory and find out how many files (images)\n",
        "# are in each subdirectory.\n",
        "import os\n",
        "\n",
        "def walk_through_dir(dir_path):\n",
        "  \"\"\"\n",
        "  Walks through dir_path returning its contents.\n",
        "\n",
        "  Args:\n",
        "    dir_path (str): target directory\n",
        "\n",
        "  Returns:\n",
        "    A print out of:\n",
        "      number of subdiretories in dir_path\n",
        "      number of images (files) in each subdirectory\n",
        "      name of each subdirectory\n",
        "  \"\"\"\n",
        "  for dirpath, dirnames, filenames in os.walk(dir_path):\n",
        "    print(f\"There are {len(dirnames)} directories and {len(filenames)} images in '{dirpath}'.\")\n",
        "\n",
        "# Function to evaluate: accuracy, precision, recall, f1-score\n",
        "from sklearn.metrics import accuracy_score, precision_recall_fscore_support\n",
        "\n",
        "def calculate_results(y_true, y_pred):\n",
        "  \"\"\"\n",
        "  Calculates model accuracy, precision, recall and f1 score of a binary classification model.\n",
        "\n",
        "  Args:\n",
        "      y_true: true labels in the form of a 1D array\n",
        "      y_pred: predicted labels in the form of a 1D array\n",
        "\n",
        "  Returns a dictionary of accuracy, precision, recall, f1-score.\n",
        "  \"\"\"\n",
        "  # Calculate model accuracy\n",
        "  model_accuracy = accuracy_score(y_true, y_pred) * 100\n",
        "  # Calculate model precision, recall and f1 score using \"weighted average\n",
        "  model_precision, model_recall, model_f1, _ = precision_recall_fscore_support(y_true, y_pred, average=\"weighted\")\n",
        "  model_results = {\"accuracy\": model_accuracy,\n",
        "                  \"precision\": model_precision,\n",
        "                  \"recall\": model_recall,\n",
        "                  \"f1\": model_f1}\n",
        "  return model_results\n",
        "\n"
      ],
      "metadata": {
        "id": "Wignj0fUn_9M"
      },
      "execution_count": 1,
      "outputs": []
    },
    {
      "cell_type": "markdown",
      "source": [
        "**10 Food Classes: Working with Less Data**\n",
        "\n",
        "- Below we will use the **in-built pretrained models** within the **tf.keras.applications** module as well as we will **fine-tune** them to our customer dataset.\n",
        "- We will be using a new but similar dataloader function to what we have used before called **image_dataset_from_directory()** which is part of **tf.keras.utils** module.\n",
        "- Finally, we will practice **Keras Functional API** for building deep learning models.\n",
        "- The **Functional API** is a more flexible way to create models than **tf.keras.Sequential API.**\n",
        "\n",
        "\n",
        "\n",
        "\n",
        "\n",
        "\n",
        "\n",
        "\n",
        "\n",
        "\n",
        "\n",
        "\n",
        "\n"
      ],
      "metadata": {
        "id": "WxkarKmf_Z04"
      }
    },
    {
      "cell_type": "markdown",
      "source": [
        "**Download the Data**"
      ],
      "metadata": {
        "id": "3vzUtCqSBrWZ"
      }
    },
    {
      "cell_type": "code",
      "source": [
        "# Get 10% of the data of the 10 classes\n",
        "!wget https://storage.googleapis.com/ztm_tf_course/food_vision/10_food_classes_10_percent.zip\n",
        "\n",
        "unzip_data(\"10_food_classes_10_percent.zip\")"
      ],
      "metadata": {
        "colab": {
          "base_uri": "https://localhost:8080/"
        },
        "id": "IXSAxVg3q8m2",
        "outputId": "0de9aca5-305d-4289-b760-3ae89493c802"
      },
      "execution_count": 2,
      "outputs": [
        {
          "output_type": "stream",
          "name": "stdout",
          "text": [
            "--2025-09-23 11:09:22--  https://storage.googleapis.com/ztm_tf_course/food_vision/10_food_classes_10_percent.zip\n",
            "Resolving storage.googleapis.com (storage.googleapis.com)... 142.250.101.207, 142.251.2.207, 142.250.141.207, ...\n",
            "Connecting to storage.googleapis.com (storage.googleapis.com)|142.250.101.207|:443... connected.\n",
            "HTTP request sent, awaiting response... 200 OK\n",
            "Length: 168546183 (161M) [application/zip]\n",
            "Saving to: ‘10_food_classes_10_percent.zip’\n",
            "\n",
            "10_food_classes_10_ 100%[===================>] 160.74M   250MB/s    in 0.6s    \n",
            "\n",
            "2025-09-23 11:09:23 (250 MB/s) - ‘10_food_classes_10_percent.zip’ saved [168546183/168546183]\n",
            "\n"
          ]
        }
      ]
    },
    {
      "cell_type": "code",
      "source": [
        "# Walk through 10 percent data directory and list number of files\n",
        "walk_through_dir(\"10_food_classes_10_percent\")\n",
        ""
      ],
      "metadata": {
        "colab": {
          "base_uri": "https://localhost:8080/"
        },
        "id": "x5b-DScbq8fe",
        "outputId": "1b2d9aa3-c283-452c-db06-e189e018dfea"
      },
      "execution_count": 3,
      "outputs": [
        {
          "output_type": "stream",
          "name": "stdout",
          "text": [
            "There are 2 directories and 0 images in '10_food_classes_10_percent'.\n",
            "There are 10 directories and 0 images in '10_food_classes_10_percent/train'.\n",
            "There are 0 directories and 75 images in '10_food_classes_10_percent/train/chicken_wings'.\n",
            "There are 0 directories and 75 images in '10_food_classes_10_percent/train/ice_cream'.\n",
            "There are 0 directories and 75 images in '10_food_classes_10_percent/train/pizza'.\n",
            "There are 0 directories and 75 images in '10_food_classes_10_percent/train/steak'.\n",
            "There are 0 directories and 75 images in '10_food_classes_10_percent/train/hamburger'.\n",
            "There are 0 directories and 75 images in '10_food_classes_10_percent/train/grilled_salmon'.\n",
            "There are 0 directories and 75 images in '10_food_classes_10_percent/train/chicken_curry'.\n",
            "There are 0 directories and 75 images in '10_food_classes_10_percent/train/sushi'.\n",
            "There are 0 directories and 75 images in '10_food_classes_10_percent/train/ramen'.\n",
            "There are 0 directories and 75 images in '10_food_classes_10_percent/train/fried_rice'.\n",
            "There are 10 directories and 0 images in '10_food_classes_10_percent/test'.\n",
            "There are 0 directories and 250 images in '10_food_classes_10_percent/test/chicken_wings'.\n",
            "There are 0 directories and 250 images in '10_food_classes_10_percent/test/ice_cream'.\n",
            "There are 0 directories and 250 images in '10_food_classes_10_percent/test/pizza'.\n",
            "There are 0 directories and 250 images in '10_food_classes_10_percent/test/steak'.\n",
            "There are 0 directories and 250 images in '10_food_classes_10_percent/test/hamburger'.\n",
            "There are 0 directories and 250 images in '10_food_classes_10_percent/test/grilled_salmon'.\n",
            "There are 0 directories and 250 images in '10_food_classes_10_percent/test/chicken_curry'.\n",
            "There are 0 directories and 250 images in '10_food_classes_10_percent/test/sushi'.\n",
            "There are 0 directories and 250 images in '10_food_classes_10_percent/test/ramen'.\n",
            "There are 0 directories and 250 images in '10_food_classes_10_percent/test/fried_rice'.\n"
          ]
        }
      ]
    },
    {
      "cell_type": "markdown",
      "source": [
        "The **training data** has **75 images** while the testing directories have **250 images.**"
      ],
      "metadata": {
        "id": "ifNeR_tiCLtk"
      }
    },
    {
      "cell_type": "code",
      "source": [
        "# Create training and test directories\n",
        "train_dir = \"10_food_classes_10_percent/train/\"\n",
        "test_dir = \"10_food_classes_10_percent/test/\""
      ],
      "metadata": {
        "id": "KYdIoEFvq8cg"
      },
      "execution_count": 5,
      "outputs": []
    },
    {
      "cell_type": "markdown",
      "source": [
        "- Previously we used the **ImageDataGenerator** class but since **August 2023** it has been deprecated and is not recommended for future usage because of its **slowness.**\n",
        "\n",
        "- We will move onto using **tf.keras.utils.image_dataset_from_directory()**\n",
        "\n",
        "- One main benefit of using **tf.keras.preprocessing.image_dataset_from_directory()** rather than **ImageDataGenerator** is that it creates a **tf.data.Dataset** object rather than a generator\n",
        "\n",
        "- The **tf.data.Dataset** API is much more efficient(faster) than the **ImageDataGenerator** API which is paramount for larger datasets"
      ],
      "metadata": {
        "id": "IsVip88rCa_b"
      }
    },
    {
      "cell_type": "code",
      "source": [
        "# Create data inputs\n",
        "import tensorflow as tf\n",
        "IMG_SIZE = (224, 224) # define image size\n",
        "train_data_10_percent = tf.keras.preprocessing.image_dataset_from_directory(directory=train_dir,\n",
        "                                                                            image_size=IMG_SIZE,\n",
        "                                                                            label_mode=\"categorical\", # what type are the labels?\n",
        "                                                                            batch_size=32) # batch_size is 32 by default, this is generally a good number\n",
        "test_data_10_percent = tf.keras.preprocessing.image_dataset_from_directory(directory=test_dir,\n",
        "                                                                           image_size=IMG_SIZE,\n",
        "                                                                           label_mode=\"categorical\")\n"
      ],
      "metadata": {
        "colab": {
          "base_uri": "https://localhost:8080/"
        },
        "id": "Sv6dN7SZq8ZM",
        "outputId": "642052b6-ddac-4aca-b328-b27f9af0c78f"
      },
      "execution_count": 6,
      "outputs": [
        {
          "output_type": "stream",
          "name": "stdout",
          "text": [
            "Found 750 files belonging to 10 classes.\n",
            "Found 2500 files belonging to 10 classes.\n"
          ]
        }
      ]
    },
    {
      "cell_type": "markdown",
      "source": [
        "Main Components of **image_dataset_from_directory()** function\n",
        "\n",
        "- **directory:-** the filepath of the target directory we are loading images in from\n",
        "- **image_size:-** target size\n",
        "- **batch_size:-** batch size we are going to load in\n",
        "- **label_mode:-** If only two classes then **binary** otherwise for more than two classes we use **categorical**"
      ],
      "metadata": {
        "id": "Peavu79HEJ6-"
      }
    },
    {
      "cell_type": "code",
      "source": [
        "# Check the training data datatype\n",
        "train_data_10_percent"
      ],
      "metadata": {
        "colab": {
          "base_uri": "https://localhost:8080/"
        },
        "id": "PNMUnqT-q8R4",
        "outputId": "481aacc3-76e2-4b8e-aa15-7979f283b772"
      },
      "execution_count": 7,
      "outputs": [
        {
          "output_type": "execute_result",
          "data": {
            "text/plain": [
              "<_PrefetchDataset element_spec=(TensorSpec(shape=(None, 224, 224, 3), dtype=tf.float32, name=None), TensorSpec(shape=(None, 10), dtype=tf.float32, name=None))>"
            ]
          },
          "metadata": {},
          "execution_count": 7
        }
      ]
    },
    {
      "cell_type": "markdown",
      "source": [
        "**train_data_10_percent** attributes\n",
        "\n",
        "- **(TensorSpec(shape=(None, 224, 224, 3)** refers to the tensor shape of our images. *None* is the batch size. 224 is height and 224 is the width. **3** is the color channels (red, green, blue)\n",
        "\n",
        "- **(None, 10):-** refers to the tensor shape of the labels. **None** is the batch size and **10** is the number of possible labels."
      ],
      "metadata": {
        "id": "X0AmbZ79F5P8"
      }
    },
    {
      "cell_type": "code",
      "source": [
        "# Check out the class names of our dataset\n",
        "train_data_10_percent.class_names"
      ],
      "metadata": {
        "colab": {
          "base_uri": "https://localhost:8080/"
        },
        "id": "fGKOLWqGq8FL",
        "outputId": "f71aad5b-044d-4755-e655-bed126a5a33c"
      },
      "execution_count": 7,
      "outputs": [
        {
          "output_type": "execute_result",
          "data": {
            "text/plain": [
              "['chicken_curry',\n",
              " 'chicken_wings',\n",
              " 'fried_rice',\n",
              " 'grilled_salmon',\n",
              " 'hamburger',\n",
              " 'ice_cream',\n",
              " 'pizza',\n",
              " 'ramen',\n",
              " 'steak',\n",
              " 'sushi']"
            ]
          },
          "metadata": {},
          "execution_count": 7
        }
      ]
    },
    {
      "cell_type": "code",
      "source": [
        "\n",
        "# See an example batch of data\n",
        "for images, labels in train_data_10_percent.take(1):\n",
        "  print(images, labels)"
      ],
      "metadata": {
        "colab": {
          "base_uri": "https://localhost:8080/"
        },
        "id": "NruIdE8uBjdG",
        "outputId": "aa80244d-0936-4afb-b964-b0b1fd89ab13"
      },
      "execution_count": 8,
      "outputs": [
        {
          "output_type": "stream",
          "name": "stdout",
          "text": [
            "tf.Tensor(\n",
            "[[[[1.23727674e+01 1.47756701e+01 1.56506701e+01]\n",
            "   [1.32745552e+01 1.26875000e+01 1.14118309e+01]\n",
            "   [1.60926342e+01 1.25156250e+01 7.82366037e+00]\n",
            "   ...\n",
            "   [2.49640579e+02 2.25151871e+02 1.98886246e+02]\n",
            "   [2.17929352e+02 2.04011993e+02 1.80960693e+02]\n",
            "   [1.95593475e+02 1.89950653e+02 1.68665009e+02]]\n",
            "\n",
            "  [[3.01517868e+01 1.59955349e+01 2.74218750e+00]\n",
            "   [2.82589302e+01 1.80301342e+01 5.68750143e+00]\n",
            "   [2.65803566e+01 1.96529026e+01 1.07176342e+01]\n",
            "   ...\n",
            "   [2.54912949e+02 2.34676514e+02 2.09611740e+02]\n",
            "   [1.96882812e+02 1.85168579e+02 1.62976654e+02]\n",
            "   [1.92887405e+02 1.86732330e+02 1.67268066e+02]]\n",
            "\n",
            "  [[1.42012268e+02 1.07493301e+02 7.47220993e+01]\n",
            "   [8.75055771e+01 5.90256653e+01 3.31004410e+01]\n",
            "   [5.71328125e+01 3.85513382e+01 2.13694191e+01]\n",
            "   ...\n",
            "   [2.34847809e+02 2.16529785e+02 1.95042084e+02]\n",
            "   [1.93585983e+02 1.82776871e+02 1.63504562e+02]\n",
            "   [1.97131744e+02 1.92131744e+02 1.73131744e+02]]\n",
            "\n",
            "  ...\n",
            "\n",
            "  [[2.24208710e+02 2.18208710e+02 2.06208710e+02]\n",
            "   [2.22712051e+02 2.16712051e+02 2.04712051e+02]\n",
            "   [2.20426346e+02 2.14426346e+02 2.02426346e+02]\n",
            "   ...\n",
            "   [1.48428528e+02 1.24428528e+02 1.00428528e+02]\n",
            "   [1.44857117e+02 1.20857117e+02 9.62008667e+01]\n",
            "   [1.40074722e+02 1.16074722e+02 9.00747223e+01]]\n",
            "\n",
            "  [[2.16578125e+02 2.08578125e+02 1.97578125e+02]\n",
            "   [2.15041290e+02 2.07041290e+02 1.96041290e+02]\n",
            "   [2.14187500e+02 2.06187500e+02 1.95187500e+02]\n",
            "   ...\n",
            "   [1.48236542e+02 1.24472054e+02 1.01016655e+02]\n",
            "   [1.44465378e+02 1.20871628e+02 9.68716278e+01]\n",
            "   [1.39879395e+02 1.16285645e+02 9.22856445e+01]]\n",
            "\n",
            "  [[2.08062500e+02 2.00062500e+02 1.89062500e+02]\n",
            "   [2.08062500e+02 2.00062500e+02 1.89062500e+02]\n",
            "   [2.08954239e+02 2.00954239e+02 1.89954239e+02]\n",
            "   ...\n",
            "   [1.47219818e+02 1.25219818e+02 1.02219818e+02]\n",
            "   [1.43610474e+02 1.21610466e+02 9.83448410e+01]\n",
            "   [1.38547943e+02 1.16547943e+02 9.25479431e+01]]]\n",
            "\n",
            "\n",
            " [[[1.07467957e+02 7.21822357e+01 5.88965225e+01]\n",
            "   [1.05253510e+02 7.03249359e+01 5.46820793e+01]\n",
            "   [1.10283325e+02 7.52187500e+01 5.51497116e+01]\n",
            "   ...\n",
            "   [8.56541519e+01 6.32970047e+01 4.99398613e+01]\n",
            "   [8.69411621e+01 6.32983055e+01 5.05840225e+01]\n",
            "   [8.67402725e+01 6.27075691e+01 5.01232338e+01]]\n",
            "\n",
            "  [[1.20552139e+02 7.96949921e+01 5.99092789e+01]\n",
            "   [1.19466843e+02 8.15382690e+01 6.06811218e+01]\n",
            "   [1.15109688e+02 7.97356491e+01 5.80790787e+01]\n",
            "   ...\n",
            "   [7.75508423e+01 5.74079857e+01 4.64079857e+01]\n",
            "   [7.86769867e+01 5.83641624e+01 4.73641624e+01]\n",
            "   [8.10454407e+01 5.90454369e+01 4.80454369e+01]]\n",
            "\n",
            "  [[1.15721138e+02 7.57925644e+01 5.37925720e+01]\n",
            "   [1.07897324e+02 7.17871475e+01 5.25518188e+01]\n",
            "   [1.02244102e+02 7.07469711e+01 5.21420593e+01]\n",
            "   ...\n",
            "   [8.74955750e+01 6.28527145e+01 5.26384277e+01]\n",
            "   [8.68571472e+01 6.22142868e+01 5.20000000e+01]\n",
            "   [8.72210083e+01 6.25001755e+01 5.22858925e+01]]\n",
            "\n",
            "  ...\n",
            "\n",
            "  [[2.29765839e+02 2.31551575e+02 2.17123047e+02]\n",
            "   [2.34694214e+02 2.36285294e+02 2.24888000e+02]\n",
            "   [2.32318466e+02 2.32820084e+02 2.24895218e+02]\n",
            "   ...\n",
            "   [2.08872177e+02 2.08268127e+02 2.05003128e+02]\n",
            "   [2.06682602e+02 2.08007126e+02 2.06560455e+02]\n",
            "   [2.06830460e+02 2.08785736e+02 2.09720749e+02]]\n",
            "\n",
            "  [[2.35071442e+02 2.41214325e+02 2.29285767e+02]\n",
            "   [2.35979919e+02 2.41207779e+02 2.33946320e+02]\n",
            "   [2.37806274e+02 2.40020599e+02 2.35092041e+02]\n",
            "   ...\n",
            "   [2.03651703e+02 2.08651703e+02 2.12651703e+02]\n",
            "   [2.04772141e+02 2.09772141e+02 2.13772141e+02]\n",
            "   [2.03954559e+02 2.08954559e+02 2.12954559e+02]]\n",
            "\n",
            "  [[2.35363846e+02 2.45721024e+02 2.37078201e+02]\n",
            "   [2.36265656e+02 2.45908478e+02 2.38980011e+02]\n",
            "   [2.36988617e+02 2.43633957e+02 2.40404404e+02]\n",
            "   ...\n",
            "   [2.03943375e+02 2.08586197e+02 2.10871841e+02]\n",
            "   [2.03141449e+02 2.08740494e+02 2.10675507e+02]\n",
            "   [2.02084900e+02 2.10084900e+02 2.12084900e+02]]]\n",
            "\n",
            "\n",
            " [[[2.57040825e+01 1.65306151e+00 5.83163261e+00]\n",
            "   [5.64540901e+01 2.32806206e+01 1.01479626e+01]\n",
            "   [1.18698982e+02 7.60714264e+01 2.13571415e+01]\n",
            "   ...\n",
            "   [7.92551270e+01 1.08265991e+01 8.04086304e+00]\n",
            "   [8.74133759e+01 2.24133778e+01 1.84133778e+01]\n",
            "   [1.08219635e+02 4.32196350e+01 3.92196350e+01]]\n",
            "\n",
            "  [[4.35663300e+01 1.24030657e+01 0.00000000e+00]\n",
            "   [1.42280624e+02 1.04709190e+02 5.93673515e+01]\n",
            "   [1.49561218e+02 1.03775513e+02 3.43163261e+01]\n",
            "   ...\n",
            "   [7.32550812e+01 4.82655525e+00 2.04081917e+00]\n",
            "   [7.41275711e+01 6.12757444e+00 3.12757444e+00]\n",
            "   [7.74031296e+01 9.40312958e+00 6.40312958e+00]]\n",
            "\n",
            "  [[1.13938782e+02 7.62091827e+01 1.72653065e+01]\n",
            "   [1.38591843e+02 9.61785736e+01 2.06887741e+01]\n",
            "   [1.45826523e+02 9.43265305e+01 7.75000048e+00]\n",
            "   ...\n",
            "   [7.10459137e+01 1.04591370e+00 0.00000000e+00]\n",
            "   [7.41989899e+01 4.19898939e+00 2.41327524e+00]\n",
            "   [7.46377487e+01 4.71428490e+00 3.14285660e+00]]\n",
            "\n",
            "  ...\n",
            "\n",
            "  [[1.87994843e+02 1.88209106e+02 1.59566315e+02]\n",
            "   [1.96499893e+02 1.97499893e+02 1.66499893e+02]\n",
            "   [1.95688690e+02 1.95923416e+02 1.65137680e+02]\n",
            "   ...\n",
            "   [3.30459099e+01 0.00000000e+00 0.00000000e+00]\n",
            "   [3.60714417e+01 1.64291382e+00 8.57177734e-01]\n",
            "   [3.59234695e+01 1.57147217e+00 7.85736084e-01]]\n",
            "\n",
            "  [[1.83249832e+02 1.86249832e+02 1.57249832e+02]\n",
            "   [1.72428604e+02 1.73428604e+02 1.42428604e+02]\n",
            "   [2.00484634e+02 2.01056061e+02 1.70056061e+02]\n",
            "   ...\n",
            "   [3.25714722e+01 0.00000000e+00 0.00000000e+00]\n",
            "   [3.60714417e+01 2.07144165e+00 1.07144165e+00]\n",
            "   [3.69285583e+01 2.92855835e+00 1.92855835e+00]]\n",
            "\n",
            "  [[1.84898224e+02 1.87898224e+02 1.58898224e+02]\n",
            "   [1.91025482e+02 1.91954056e+02 1.61168335e+02]\n",
            "   [1.96142578e+02 1.96714005e+02 1.64928299e+02]\n",
            "   ...\n",
            "   [3.27857361e+01 2.14263916e-01 0.00000000e+00]\n",
            "   [3.50459251e+01 1.04592431e+00 4.59242836e-02]\n",
            "   [3.42856445e+01 4.13220465e-01 0.00000000e+00]]]\n",
            "\n",
            "\n",
            " ...\n",
            "\n",
            "\n",
            " [[[4.70969391e+01 2.90969391e+01 7.14285731e-01]\n",
            "   [5.75255089e+01 3.95255127e+01 3.77551079e+00]\n",
            "   [6.63061218e+01 5.04438744e+01 1.60204067e+01]\n",
            "   ...\n",
            "   [1.42438873e+02 1.22219398e+02 1.02443901e+02]\n",
            "   [1.43668365e+02 1.21000000e+02 9.60050507e+01]\n",
            "   [1.47612305e+02 1.21943932e+02 9.31836624e+01]]\n",
            "\n",
            "  [[9.14540787e+01 7.25255051e+01 2.91683655e+01]\n",
            "   [8.80204086e+01 7.10153122e+01 2.78010197e+01]\n",
            "   [9.66734695e+01 8.15306168e+01 4.07295914e+01]\n",
            "   ...\n",
            "   [1.65602081e+02 1.41744888e+02 1.17959160e+02]\n",
            "   [1.65076538e+02 1.37923462e+02 1.10505066e+02]\n",
            "   [1.68357178e+02 1.39285751e+02 1.07142891e+02]]\n",
            "\n",
            "  [[1.46729584e+02 1.27158165e+02 7.68010101e+01]\n",
            "   [1.42913254e+02 1.24999992e+02 7.58571320e+01]\n",
            "   [1.40290817e+02 1.23908165e+02 7.65306091e+01]\n",
            "   ...\n",
            "   [1.65831650e+02 1.36688751e+02 1.11499939e+02]\n",
            "   [1.68428589e+02 1.36255112e+02 1.05341820e+02]\n",
            "   [1.70433685e+02 1.38076538e+02 1.04300972e+02]]\n",
            "\n",
            "  ...\n",
            "\n",
            "  [[1.57499969e+02 1.35499969e+02 7.84999619e+01]\n",
            "   [1.57683670e+02 1.34683670e+02 8.06836624e+01]\n",
            "   [1.61096909e+02 1.37882629e+02 8.83111954e+01]\n",
            "   ...\n",
            "   [1.07857178e+02 8.10714722e+01 2.56428223e+01]\n",
            "   [1.11699043e+02 8.49133377e+01 2.95970154e+01]\n",
            "   [1.13357056e+02 8.55713501e+01 3.44998779e+01]]\n",
            "\n",
            "  [[1.55285736e+02 1.33285736e+02 7.62857285e+01]\n",
            "   [1.58709229e+02 1.35709229e+02 8.34337463e+01]\n",
            "   [1.57112213e+02 1.33168320e+02 8.54540787e+01]\n",
            "   ...\n",
            "   [1.12857178e+02 8.68571777e+01 2.64285278e+01]\n",
            "   [1.11290810e+02 8.52908096e+01 2.47091312e+01]\n",
            "   [1.13734634e+02 8.76632233e+01 2.89488640e+01]]\n",
            "\n",
            "  [[1.55071442e+02 1.33071442e+02 7.60714417e+01]\n",
            "   [1.58974503e+02 1.35974503e+02 8.38316422e+01]\n",
            "   [1.52352066e+02 1.28352066e+02 8.10561447e+01]\n",
            "   ...\n",
            "   [1.15795959e+02 8.67959595e+01 2.69490089e+01]\n",
            "   [1.14188812e+02 8.61632919e+01 2.32398396e+01]\n",
            "   [1.24545982e+02 9.55459824e+01 3.55459862e+01]]]\n",
            "\n",
            "\n",
            " [[[1.50015305e+02 1.54683670e+02 1.53030609e+02]\n",
            "   [1.58198975e+02 1.55484695e+02 1.46698975e+02]\n",
            "   [1.13867340e+02 1.08362244e+02 9.08775482e+01]\n",
            "   ...\n",
            "   [1.21351852e+02 1.15994644e+02 8.06374359e+01]\n",
            "   [1.19908249e+02 1.07836807e+02 6.76428986e+01]\n",
            "   [1.30760162e+02 1.15275497e+02 7.16887054e+01]]\n",
            "\n",
            "  [[8.98214264e+01 9.08928528e+01 8.53979568e+01]\n",
            "   [1.06071411e+02 1.04219376e+02 9.23724289e+01]\n",
            "   [5.00816193e+01 4.69132538e+01 2.99693775e+01]\n",
            "   ...\n",
            "   [1.10831451e+02 1.07642593e+02 7.28721619e+01]\n",
            "   [1.13882629e+02 1.04464226e+02 6.54489059e+01]\n",
            "   [1.19566635e+02 1.07495201e+02 6.66379929e+01]]\n",
            "\n",
            "  [[4.10714264e+01 3.66428566e+01 2.54285698e+01]\n",
            "   [4.28112221e+01 3.83826485e+01 2.59540768e+01]\n",
            "   [2.68112240e+01 2.32397976e+01 1.10714293e+01]\n",
            "   ...\n",
            "   [1.11811142e+02 1.09453934e+02 7.62396698e+01]\n",
            "   [1.10673386e+02 1.05703964e+02 6.78468094e+01]\n",
            "   [1.05347130e+02 9.82706299e+01 5.84899216e+01]]\n",
            "\n",
            "  ...\n",
            "\n",
            "  [[1.82142639e+01 1.52142639e+01 1.02142639e+01]\n",
            "   [1.68418598e+01 1.42703876e+01 9.27038765e+00]\n",
            "   [1.61683502e+01 1.52601776e+01 1.04285498e+01]\n",
            "   ...\n",
            "   [3.30049133e+01 1.65509739e+01 1.15509739e+01]\n",
            "   [2.72703362e+01 1.84132195e+01 1.33417788e+01]\n",
            "   [2.73522110e+01 2.14950943e+01 1.54185638e+01]]\n",
            "\n",
            "  [[2.01887455e+01 1.71887455e+01 1.01887445e+01]\n",
            "   [1.89234428e+01 1.59234419e+01 1.09234419e+01]\n",
            "   [1.67856750e+01 1.57856750e+01 1.07856750e+01]\n",
            "   ...\n",
            "   [5.05101814e+01 3.71122704e+01 3.08826981e+01]\n",
            "   [3.66378708e+01 2.34949875e+01 1.75664291e+01]\n",
            "   [4.51172752e+01 3.08315086e+01 2.79029503e+01]]\n",
            "\n",
            "  [[1.97858543e+01 1.47858534e+01 8.78585339e+00]\n",
            "   [1.75001392e+01 1.45001392e+01 7.50013924e+00]\n",
            "   [1.44287109e+01 1.34287109e+01 8.42871094e+00]\n",
            "   ...\n",
            "   [3.71632690e+01 2.48060608e+01 1.81632690e+01]\n",
            "   [4.53880463e+01 2.91787395e+01 2.45818405e+01]\n",
            "   [4.25663452e+01 2.28519917e+01 1.92091694e+01]]]\n",
            "\n",
            "\n",
            " [[[1.07801018e+02 8.18010178e+01 4.68010178e+01]\n",
            "   [9.99285660e+01 7.48571396e+01 4.37142830e+01]\n",
            "   [7.08622437e+01 4.99336700e+01 2.80051022e+01]\n",
            "   ...\n",
            "   [8.00000000e+00 8.00000000e+00 6.00000000e+00]\n",
            "   [8.07144165e+00 8.07144165e+00 6.07144165e+00]\n",
            "   [1.00000000e+01 1.00000000e+01 8.00000000e+00]]\n",
            "\n",
            "  [[1.09091835e+02 8.30918350e+01 4.80918388e+01]\n",
            "   [9.66428528e+01 7.15714264e+01 4.04285698e+01]\n",
            "   [7.37857056e+01 5.28571434e+01 3.09285698e+01]\n",
            "   ...\n",
            "   [8.19895935e+00 8.19895935e+00 6.19895935e+00]\n",
            "   [9.06633854e+00 9.06633854e+00 7.06633854e+00]\n",
            "   [1.03571777e+01 1.03571777e+01 8.35717773e+00]]\n",
            "\n",
            "  [[1.09280609e+02 8.32806091e+01 4.82806129e+01]\n",
            "   [9.83010254e+01 7.34285660e+01 4.16581650e+01]\n",
            "   [7.60969315e+01 5.51683655e+01 3.23622437e+01]\n",
            "   ...\n",
            "   [9.00000000e+00 9.00000000e+00 7.00000000e+00]\n",
            "   [9.27041817e+00 9.27041817e+00 7.27041864e+00]\n",
            "   [1.10765381e+01 1.10765381e+01 9.07653809e+00]]\n",
            "\n",
            "  ...\n",
            "\n",
            "  [[2.23224014e+02 2.08438171e+02 1.68223846e+02]\n",
            "   [2.39275223e+02 2.26846481e+02 1.91974014e+02]\n",
            "   [2.51127441e+02 2.43627335e+02 2.12341537e+02]\n",
            "   ...\n",
            "   [2.21739517e+02 2.03168045e+02 1.73688400e+02]\n",
            "   [2.07744598e+02 1.86958862e+02 1.56815918e+02]\n",
            "   [1.87591339e+02 1.65734222e+02 1.35086212e+02]]\n",
            "\n",
            "  [[1.64168167e+02 1.37953842e+02 1.04504921e+02]\n",
            "   [1.78091583e+02 1.54724182e+02 1.22810959e+02]\n",
            "   [1.98754730e+02 1.82229156e+02 1.50096558e+02]\n",
            "   ...\n",
            "   [1.91040405e+02 1.67096466e+02 1.33055649e+02]\n",
            "   [1.76800797e+02 1.52458908e+02 1.18321129e+02]\n",
            "   [1.62193710e+02 1.36765182e+02 1.01290634e+02]]\n",
            "\n",
            "  [[1.24402359e+02 9.32288437e+01 7.05299606e+01]\n",
            "   [1.34427948e+02 1.06259575e+02 8.29994431e+01]\n",
            "   [1.39927872e+02 1.16341118e+02 9.09177246e+01]\n",
            "   ...\n",
            "   [1.69841736e+02 1.40561081e+02 1.06561081e+02]\n",
            "   [1.65428497e+02 1.35520340e+02 9.94744186e+01]\n",
            "   [1.62770401e+02 1.33229599e+02 9.70000000e+01]]]], shape=(32, 224, 224, 3), dtype=float32) tf.Tensor(\n",
            "[[0. 0. 0. 0. 1. 0. 0. 0. 0. 0.]\n",
            " [0. 0. 1. 0. 0. 0. 0. 0. 0. 0.]\n",
            " [0. 0. 0. 0. 0. 0. 0. 1. 0. 0.]\n",
            " [0. 0. 0. 0. 0. 0. 1. 0. 0. 0.]\n",
            " [0. 0. 0. 0. 0. 0. 0. 0. 0. 1.]\n",
            " [0. 0. 0. 0. 0. 0. 1. 0. 0. 0.]\n",
            " [0. 0. 1. 0. 0. 0. 0. 0. 0. 0.]\n",
            " [0. 0. 0. 1. 0. 0. 0. 0. 0. 0.]\n",
            " [0. 0. 0. 0. 0. 0. 1. 0. 0. 0.]\n",
            " [0. 0. 0. 0. 0. 1. 0. 0. 0. 0.]\n",
            " [0. 0. 0. 0. 0. 0. 0. 0. 1. 0.]\n",
            " [0. 0. 0. 0. 0. 0. 1. 0. 0. 0.]\n",
            " [0. 0. 0. 0. 0. 0. 0. 0. 0. 1.]\n",
            " [0. 0. 1. 0. 0. 0. 0. 0. 0. 0.]\n",
            " [0. 0. 0. 0. 0. 0. 0. 1. 0. 0.]\n",
            " [0. 0. 0. 0. 0. 0. 1. 0. 0. 0.]\n",
            " [0. 0. 1. 0. 0. 0. 0. 0. 0. 0.]\n",
            " [0. 0. 0. 1. 0. 0. 0. 0. 0. 0.]\n",
            " [0. 0. 0. 0. 0. 0. 0. 0. 0. 1.]\n",
            " [1. 0. 0. 0. 0. 0. 0. 0. 0. 0.]\n",
            " [0. 0. 0. 0. 0. 0. 0. 0. 1. 0.]\n",
            " [1. 0. 0. 0. 0. 0. 0. 0. 0. 0.]\n",
            " [0. 0. 1. 0. 0. 0. 0. 0. 0. 0.]\n",
            " [0. 0. 0. 0. 0. 0. 1. 0. 0. 0.]\n",
            " [0. 0. 0. 0. 0. 0. 0. 0. 0. 1.]\n",
            " [0. 0. 0. 0. 0. 1. 0. 0. 0. 0.]\n",
            " [1. 0. 0. 0. 0. 0. 0. 0. 0. 0.]\n",
            " [0. 0. 0. 0. 0. 0. 0. 1. 0. 0.]\n",
            " [0. 0. 0. 0. 0. 1. 0. 0. 0. 0.]\n",
            " [1. 0. 0. 0. 0. 0. 0. 0. 0. 0.]\n",
            " [0. 0. 0. 0. 0. 0. 0. 1. 0. 0.]\n",
            " [0. 0. 1. 0. 0. 0. 0. 0. 0. 0.]], shape=(32, 10), dtype=float32)\n"
          ]
        }
      ]
    },
    {
      "cell_type": "markdown",
      "source": [
        "**Model 0: Building a transfer learning model using the Keras Functional API**\n",
        "\n",
        "- The **tf.keras.applications** modules contains a series of already trained **(ImageNet)** computer vision module as well as **Keras Functional API**\n",
        "\n",
        "We are going to go through the following steps\n",
        "\n",
        "- Initialize a pre-trained base model by using a target model such as **EfficientNetV2B0** from **tf.keras.applications.efficientnet_V2** setting **include_top** to **False** to freeze all of the weights because we will build our own top\n",
        "- Set the base model to **trainable** attribute to **False** to freeze all of the weights in the pre-trained model\n",
        "- Define an **input Layer** for our model\n",
        "- **Optional** Normalize the input because some models work better on **Normalized Data** where the input is between 0 and 1.\n",
        "- Pass the input to the **base model.**\n",
        "- Pool the outputs of the **base model** into a shape compatiable with the output activation layer. This turns the **base model output** into same shape as **label tensors.** This can be done using **tf.keras.layers.GlobalAveragePooling2D()** or **tf.keras.layers.GlobalMaxPooling2D** but the former is more common\n",
        "- Create an output **activation** function using **tf.keras.Model()**.\n",
        "- Compile the model using appropriate **loss function** and choose an **optimizer**\n",
        "- Finally, **Fit()** the model using desired number of **epochs** including the desired **callbacks**\n",
        "\n",
        "\n",
        "\n",
        "\n",
        "\n",
        "\n",
        "\n",
        "\n",
        "\n",
        "\n",
        "\n",
        "\n",
        "\n",
        "\n",
        "\n",
        "\n",
        "\n",
        "\n",
        "\n",
        "\n",
        "\n",
        "\n"
      ],
      "metadata": {
        "id": "C6V-5k-TH3GP"
      }
    },
    {
      "cell_type": "code",
      "source": [
        "# 1. Create the base model\n",
        "base_model = tf.keras.applications.efficientnet_v2.EfficientNetV2B0(include_top=False)\n",
        "# 2. Freeze the base model\n",
        "base_model.trainable = False\n",
        "# 3. Create inputs into the model\n",
        "inputs = tf.keras.layers.Input(shape=(224, 224, 3),\n",
        "                               name=\"input_layer\")\n",
        "\n",
        "# 4. If using ResNet50V2, add following to speed up convergence\n",
        "# x = tf.keras.layers.experimental.preprocessing.Rescaling(1./255)(inputs)\n",
        "\n",
        "'''\n",
        "     5. Pass the inputs to the base_model\n",
        "     (note: using tf.keras.applications,\n",
        "      EfficientNetV2 inputs don't have to be normalized)\n",
        "      '''\n",
        "x = base_model(inputs)\n",
        "# Check data shape after passing it to base_model\n",
        "print(f\"Shape after base_model: {x.shape}\")\n",
        "\n",
        "'''\n",
        "       6. Average pool the outputs of the base model\n",
        "       (aggregate all the most important information,\n",
        "       reduce number of computations)\n",
        " '''\n",
        "x = tf.keras.layers.GlobalAveragePooling2D(name=\"global_average_pooling_layer\")(x)\n",
        "print(f\"After GlobalAveragePooling2D(): {x.shape}\")\n",
        "\n",
        "# 7. Create the output activation layer\n",
        "outputs = tf.keras.layers.Dense(10,\n",
        "                                activation=\"softmax\",\n",
        "                                name=\"output_layer\")(x)\n",
        "\n",
        "# 8. Combine the inputs with the outputs into a model\n",
        "model_0 = tf.keras.Model(inputs, outputs)\n",
        "\n",
        "# 9. Compile the model\n",
        "model_0.compile(loss='categorical_crossentropy',\n",
        "              optimizer=tf.keras.optimizers.Adam(),\n",
        "              metrics=[\"accuracy\"])\n",
        "\n"
      ],
      "metadata": {
        "colab": {
          "base_uri": "https://localhost:8080/"
        },
        "id": "pq4RaKQPBjNw",
        "outputId": "8ffee92e-d30e-4ecc-cd33-deacb72bd0b9"
      },
      "execution_count": 9,
      "outputs": [
        {
          "output_type": "stream",
          "name": "stdout",
          "text": [
            "Downloading data from https://storage.googleapis.com/tensorflow/keras-applications/efficientnet_v2/efficientnetv2-b0_notop.h5\n",
            "\u001b[1m24274472/24274472\u001b[0m \u001b[32m━━━━━━━━━━━━━━━━━━━━\u001b[0m\u001b[37m\u001b[0m \u001b[1m0s\u001b[0m 0us/step\n",
            "Shape after base_model: (None, 7, 7, 1280)\n",
            "After GlobalAveragePooling2D(): (None, 1280)\n"
          ]
        }
      ]
    },
    {
      "cell_type": "code",
      "source": [
        "# 10. Fit the model (we use less steps for validation so it's faster)\n",
        "history_10_percent = model_0.fit(train_data_10_percent,\n",
        "                                 epochs=5,\n",
        "                                 steps_per_epoch=len(train_data_10_percent),\n",
        "                                 validation_data=test_data_10_percent,\n",
        "                                 # Go through less of the validation data so epochs are faster (we want faster experiments!)\n",
        "                                 validation_steps=int(0.25 * len(test_data_10_percent)),\n",
        "                                 # Track our model's training logs for visualization later\n",
        "                                 callbacks=[create_tensorboard_callback(\"transfer_learning\", \"10_percent_feature_extract\")])\n",
        ""
      ],
      "metadata": {
        "colab": {
          "base_uri": "https://localhost:8080/"
        },
        "id": "hXnLvoWeBjMd",
        "outputId": "a43b9efc-be6e-4bb9-9949-c209921c1f8a"
      },
      "execution_count": 10,
      "outputs": [
        {
          "output_type": "stream",
          "name": "stdout",
          "text": [
            "Saving TensorBoard log files to: transfer_learning/10_percent_feature_extract/20250923-111034\n",
            "Epoch 1/5\n",
            "\u001b[1m24/24\u001b[0m \u001b[32m━━━━━━━━━━━━━━━━━━━━\u001b[0m\u001b[37m\u001b[0m \u001b[1m53s\u001b[0m 1s/step - accuracy: 0.2866 - loss: 2.0691 - val_accuracy: 0.7171 - val_loss: 1.3067\n",
            "Epoch 2/5\n",
            "\u001b[1m24/24\u001b[0m \u001b[32m━━━━━━━━━━━━━━━━━━━━\u001b[0m\u001b[37m\u001b[0m \u001b[1m6s\u001b[0m 257ms/step - accuracy: 0.7304 - loss: 1.2224 - val_accuracy: 0.8043 - val_loss: 0.8921\n",
            "Epoch 3/5\n",
            "\u001b[1m24/24\u001b[0m \u001b[32m━━━━━━━━━━━━━━━━━━━━\u001b[0m\u001b[37m\u001b[0m \u001b[1m3s\u001b[0m 102ms/step - accuracy: 0.8034 - loss: 0.8582 - val_accuracy: 0.8322 - val_loss: 0.7129\n",
            "Epoch 4/5\n",
            "\u001b[1m24/24\u001b[0m \u001b[32m━━━━━━━━━━━━━━━━━━━━\u001b[0m\u001b[37m\u001b[0m \u001b[1m3s\u001b[0m 133ms/step - accuracy: 0.8485 - loss: 0.7022 - val_accuracy: 0.8487 - val_loss: 0.6302\n",
            "Epoch 5/5\n",
            "\u001b[1m24/24\u001b[0m \u001b[32m━━━━━━━━━━━━━━━━━━━━\u001b[0m\u001b[37m\u001b[0m \u001b[1m2s\u001b[0m 96ms/step - accuracy: 0.8739 - loss: 0.6046 - val_accuracy: 0.8602 - val_loss: 0.5533\n"
          ]
        }
      ]
    },
    {
      "cell_type": "markdown",
      "source": [
        "**Results**\n",
        "\n",
        "- After small training our model performed well on both the **training** and **test** sets\n",
        "- All the good results came because of **Transfer Learning**\n",
        "\n",
        "- In above model what we used is called ** Feature Extraction Transfer Learning**\n",
        "- We passed our customer data to the **already pre-trained model** called **EfficientNetV2B0** to find the patterns that it sees. We then put another layers on top to make our model output our **desired number of classes.**\n",
        "- We also used **Keras Functional API** to build our model rather than the **Sequential API.**"
      ],
      "metadata": {
        "id": "sALVodkoR7hI"
      }
    },
    {
      "cell_type": "markdown",
      "source": [
        "**Let's inspect the Layers in our model**"
      ],
      "metadata": {
        "id": "ktu-c52rTAcZ"
      }
    },
    {
      "cell_type": "code",
      "source": [
        "# Check layers in our base model\n",
        "for layer_number, layer in enumerate(base_model.layers):\n",
        "  print(layer_number, layer.name)"
      ],
      "metadata": {
        "colab": {
          "base_uri": "https://localhost:8080/"
        },
        "id": "bsqN-AvNBi-e",
        "outputId": "c7dc6693-0cd5-480f-f836-459509b63092"
      },
      "execution_count": 11,
      "outputs": [
        {
          "output_type": "stream",
          "name": "stdout",
          "text": [
            "0 input_layer\n",
            "1 rescaling\n",
            "2 normalization\n",
            "3 stem_conv\n",
            "4 stem_bn\n",
            "5 stem_activation\n",
            "6 block1a_project_conv\n",
            "7 block1a_project_bn\n",
            "8 block1a_project_activation\n",
            "9 block2a_expand_conv\n",
            "10 block2a_expand_bn\n",
            "11 block2a_expand_activation\n",
            "12 block2a_project_conv\n",
            "13 block2a_project_bn\n",
            "14 block2b_expand_conv\n",
            "15 block2b_expand_bn\n",
            "16 block2b_expand_activation\n",
            "17 block2b_project_conv\n",
            "18 block2b_project_bn\n",
            "19 block2b_drop\n",
            "20 block2b_add\n",
            "21 block3a_expand_conv\n",
            "22 block3a_expand_bn\n",
            "23 block3a_expand_activation\n",
            "24 block3a_project_conv\n",
            "25 block3a_project_bn\n",
            "26 block3b_expand_conv\n",
            "27 block3b_expand_bn\n",
            "28 block3b_expand_activation\n",
            "29 block3b_project_conv\n",
            "30 block3b_project_bn\n",
            "31 block3b_drop\n",
            "32 block3b_add\n",
            "33 block4a_expand_conv\n",
            "34 block4a_expand_bn\n",
            "35 block4a_expand_activation\n",
            "36 block4a_dwconv2\n",
            "37 block4a_bn\n",
            "38 block4a_activation\n",
            "39 block4a_se_squeeze\n",
            "40 block4a_se_reshape\n",
            "41 block4a_se_reduce\n",
            "42 block4a_se_expand\n",
            "43 block4a_se_excite\n",
            "44 block4a_project_conv\n",
            "45 block4a_project_bn\n",
            "46 block4b_expand_conv\n",
            "47 block4b_expand_bn\n",
            "48 block4b_expand_activation\n",
            "49 block4b_dwconv2\n",
            "50 block4b_bn\n",
            "51 block4b_activation\n",
            "52 block4b_se_squeeze\n",
            "53 block4b_se_reshape\n",
            "54 block4b_se_reduce\n",
            "55 block4b_se_expand\n",
            "56 block4b_se_excite\n",
            "57 block4b_project_conv\n",
            "58 block4b_project_bn\n",
            "59 block4b_drop\n",
            "60 block4b_add\n",
            "61 block4c_expand_conv\n",
            "62 block4c_expand_bn\n",
            "63 block4c_expand_activation\n",
            "64 block4c_dwconv2\n",
            "65 block4c_bn\n",
            "66 block4c_activation\n",
            "67 block4c_se_squeeze\n",
            "68 block4c_se_reshape\n",
            "69 block4c_se_reduce\n",
            "70 block4c_se_expand\n",
            "71 block4c_se_excite\n",
            "72 block4c_project_conv\n",
            "73 block4c_project_bn\n",
            "74 block4c_drop\n",
            "75 block4c_add\n",
            "76 block5a_expand_conv\n",
            "77 block5a_expand_bn\n",
            "78 block5a_expand_activation\n",
            "79 block5a_dwconv2\n",
            "80 block5a_bn\n",
            "81 block5a_activation\n",
            "82 block5a_se_squeeze\n",
            "83 block5a_se_reshape\n",
            "84 block5a_se_reduce\n",
            "85 block5a_se_expand\n",
            "86 block5a_se_excite\n",
            "87 block5a_project_conv\n",
            "88 block5a_project_bn\n",
            "89 block5b_expand_conv\n",
            "90 block5b_expand_bn\n",
            "91 block5b_expand_activation\n",
            "92 block5b_dwconv2\n",
            "93 block5b_bn\n",
            "94 block5b_activation\n",
            "95 block5b_se_squeeze\n",
            "96 block5b_se_reshape\n",
            "97 block5b_se_reduce\n",
            "98 block5b_se_expand\n",
            "99 block5b_se_excite\n",
            "100 block5b_project_conv\n",
            "101 block5b_project_bn\n",
            "102 block5b_drop\n",
            "103 block5b_add\n",
            "104 block5c_expand_conv\n",
            "105 block5c_expand_bn\n",
            "106 block5c_expand_activation\n",
            "107 block5c_dwconv2\n",
            "108 block5c_bn\n",
            "109 block5c_activation\n",
            "110 block5c_se_squeeze\n",
            "111 block5c_se_reshape\n",
            "112 block5c_se_reduce\n",
            "113 block5c_se_expand\n",
            "114 block5c_se_excite\n",
            "115 block5c_project_conv\n",
            "116 block5c_project_bn\n",
            "117 block5c_drop\n",
            "118 block5c_add\n",
            "119 block5d_expand_conv\n",
            "120 block5d_expand_bn\n",
            "121 block5d_expand_activation\n",
            "122 block5d_dwconv2\n",
            "123 block5d_bn\n",
            "124 block5d_activation\n",
            "125 block5d_se_squeeze\n",
            "126 block5d_se_reshape\n",
            "127 block5d_se_reduce\n",
            "128 block5d_se_expand\n",
            "129 block5d_se_excite\n",
            "130 block5d_project_conv\n",
            "131 block5d_project_bn\n",
            "132 block5d_drop\n",
            "133 block5d_add\n",
            "134 block5e_expand_conv\n",
            "135 block5e_expand_bn\n",
            "136 block5e_expand_activation\n",
            "137 block5e_dwconv2\n",
            "138 block5e_bn\n",
            "139 block5e_activation\n",
            "140 block5e_se_squeeze\n",
            "141 block5e_se_reshape\n",
            "142 block5e_se_reduce\n",
            "143 block5e_se_expand\n",
            "144 block5e_se_excite\n",
            "145 block5e_project_conv\n",
            "146 block5e_project_bn\n",
            "147 block5e_drop\n",
            "148 block5e_add\n",
            "149 block6a_expand_conv\n",
            "150 block6a_expand_bn\n",
            "151 block6a_expand_activation\n",
            "152 block6a_dwconv2\n",
            "153 block6a_bn\n",
            "154 block6a_activation\n",
            "155 block6a_se_squeeze\n",
            "156 block6a_se_reshape\n",
            "157 block6a_se_reduce\n",
            "158 block6a_se_expand\n",
            "159 block6a_se_excite\n",
            "160 block6a_project_conv\n",
            "161 block6a_project_bn\n",
            "162 block6b_expand_conv\n",
            "163 block6b_expand_bn\n",
            "164 block6b_expand_activation\n",
            "165 block6b_dwconv2\n",
            "166 block6b_bn\n",
            "167 block6b_activation\n",
            "168 block6b_se_squeeze\n",
            "169 block6b_se_reshape\n",
            "170 block6b_se_reduce\n",
            "171 block6b_se_expand\n",
            "172 block6b_se_excite\n",
            "173 block6b_project_conv\n",
            "174 block6b_project_bn\n",
            "175 block6b_drop\n",
            "176 block6b_add\n",
            "177 block6c_expand_conv\n",
            "178 block6c_expand_bn\n",
            "179 block6c_expand_activation\n",
            "180 block6c_dwconv2\n",
            "181 block6c_bn\n",
            "182 block6c_activation\n",
            "183 block6c_se_squeeze\n",
            "184 block6c_se_reshape\n",
            "185 block6c_se_reduce\n",
            "186 block6c_se_expand\n",
            "187 block6c_se_excite\n",
            "188 block6c_project_conv\n",
            "189 block6c_project_bn\n",
            "190 block6c_drop\n",
            "191 block6c_add\n",
            "192 block6d_expand_conv\n",
            "193 block6d_expand_bn\n",
            "194 block6d_expand_activation\n",
            "195 block6d_dwconv2\n",
            "196 block6d_bn\n",
            "197 block6d_activation\n",
            "198 block6d_se_squeeze\n",
            "199 block6d_se_reshape\n",
            "200 block6d_se_reduce\n",
            "201 block6d_se_expand\n",
            "202 block6d_se_excite\n",
            "203 block6d_project_conv\n",
            "204 block6d_project_bn\n",
            "205 block6d_drop\n",
            "206 block6d_add\n",
            "207 block6e_expand_conv\n",
            "208 block6e_expand_bn\n",
            "209 block6e_expand_activation\n",
            "210 block6e_dwconv2\n",
            "211 block6e_bn\n",
            "212 block6e_activation\n",
            "213 block6e_se_squeeze\n",
            "214 block6e_se_reshape\n",
            "215 block6e_se_reduce\n",
            "216 block6e_se_expand\n",
            "217 block6e_se_excite\n",
            "218 block6e_project_conv\n",
            "219 block6e_project_bn\n",
            "220 block6e_drop\n",
            "221 block6e_add\n",
            "222 block6f_expand_conv\n",
            "223 block6f_expand_bn\n",
            "224 block6f_expand_activation\n",
            "225 block6f_dwconv2\n",
            "226 block6f_bn\n",
            "227 block6f_activation\n",
            "228 block6f_se_squeeze\n",
            "229 block6f_se_reshape\n",
            "230 block6f_se_reduce\n",
            "231 block6f_se_expand\n",
            "232 block6f_se_excite\n",
            "233 block6f_project_conv\n",
            "234 block6f_project_bn\n",
            "235 block6f_drop\n",
            "236 block6f_add\n",
            "237 block6g_expand_conv\n",
            "238 block6g_expand_bn\n",
            "239 block6g_expand_activation\n",
            "240 block6g_dwconv2\n",
            "241 block6g_bn\n",
            "242 block6g_activation\n",
            "243 block6g_se_squeeze\n",
            "244 block6g_se_reshape\n",
            "245 block6g_se_reduce\n",
            "246 block6g_se_expand\n",
            "247 block6g_se_excite\n",
            "248 block6g_project_conv\n",
            "249 block6g_project_bn\n",
            "250 block6g_drop\n",
            "251 block6g_add\n",
            "252 block6h_expand_conv\n",
            "253 block6h_expand_bn\n",
            "254 block6h_expand_activation\n",
            "255 block6h_dwconv2\n",
            "256 block6h_bn\n",
            "257 block6h_activation\n",
            "258 block6h_se_squeeze\n",
            "259 block6h_se_reshape\n",
            "260 block6h_se_reduce\n",
            "261 block6h_se_expand\n",
            "262 block6h_se_excite\n",
            "263 block6h_project_conv\n",
            "264 block6h_project_bn\n",
            "265 block6h_drop\n",
            "266 block6h_add\n",
            "267 top_conv\n",
            "268 top_bn\n",
            "269 top_activation\n"
          ]
        }
      ]
    },
    {
      "cell_type": "code",
      "source": [],
      "metadata": {
        "id": "bjd-oyDkBi1W"
      },
      "execution_count": null,
      "outputs": []
    },
    {
      "cell_type": "code",
      "source": [],
      "metadata": {
        "id": "HkyJEcj5BiZN"
      },
      "execution_count": null,
      "outputs": []
    },
    {
      "cell_type": "code",
      "source": [],
      "metadata": {
        "id": "NqQAxoF8G2Zp"
      },
      "execution_count": null,
      "outputs": []
    },
    {
      "cell_type": "code",
      "source": [],
      "metadata": {
        "id": "TnBdBbGiG2Qm"
      },
      "execution_count": null,
      "outputs": []
    },
    {
      "cell_type": "code",
      "source": [],
      "metadata": {
        "id": "FUlwFUZuG2Hd"
      },
      "execution_count": null,
      "outputs": []
    },
    {
      "cell_type": "code",
      "source": [],
      "metadata": {
        "id": "r7RDuUHdG1--"
      },
      "execution_count": null,
      "outputs": []
    },
    {
      "cell_type": "code",
      "source": [],
      "metadata": {
        "id": "39lSUkHzG12c"
      },
      "execution_count": null,
      "outputs": []
    },
    {
      "cell_type": "code",
      "source": [],
      "metadata": {
        "id": "7Fj0SvaaG1tc"
      },
      "execution_count": null,
      "outputs": []
    },
    {
      "cell_type": "code",
      "source": [],
      "metadata": {
        "id": "mGMBiOneG1kM"
      },
      "execution_count": null,
      "outputs": []
    }
  ]
}