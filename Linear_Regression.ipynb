{
  "nbformat": 4,
  "nbformat_minor": 0,
  "metadata": {
    "colab": {
      "provenance": [],
      "authorship_tag": "ABX9TyNsmiwKJY0zBI4uCCa52ek7"
    },
    "kernelspec": {
      "name": "python3",
      "display_name": "Python 3"
    },
    "language_info": {
      "name": "python"
    }
  },
  "cells": [
    {
      "cell_type": "markdown",
      "source": [
        "# Linear Regression"
      ],
      "metadata": {
        "id": "YJGdDYNtaHxl"
      }
    },
    {
      "cell_type": "code",
      "source": [
        "import tensorflow as tf\n",
        "import numpy as np\n",
        "import pandas as pd\n",
        "import matplotlib.pyplot as plt\n",
        "print(tf.__version__)"
      ],
      "metadata": {
        "id": "RQGomSy70mIx"
      },
      "execution_count": null,
      "outputs": []
    },
    {
      "cell_type": "markdown",
      "source": [
        "## Useful info\n",
        "\n",
        "* **Input Layer:** Equal to no of input parameters\n",
        "* **Hidden Layer:** Minimum 1, Maximum unlimited\n",
        "* **Neurons Per Layer:** Specific to a problem, generally from 10 to 100\n",
        "* **Output Layer Shape:** Depends on the prediction requirements. If Regression then 1, otherwise\n",
        "* **Hidden Activation Function:** Usually ReLU\n",
        "* **Output Activation:** None, ReLU, Logistic\n",
        "* **Loss Function:** MSE (Mean Square Error), MAE (Mean Absolute Error), Huber (Combination of MAE & MSE) if there are outliers\n",
        "* **Optimizer:** SGD, Adam"
      ],
      "metadata": {
        "id": "6H1ji2X4aMUn"
      }
    },
    {
      "cell_type": "code",
      "source": [
        "X = np.array([-7.0, -4.0, -1.0, 2.0, 5.0, 8.0, 11.0, 14.0])\n",
        "y = np.array([3.0, 6.0, 9.0, 12.0, 15.0, 18.0, 21.0, 24.0])\n",
        "\n",
        "plt.scatter(X,y)\n",
        "plt.show()"
      ],
      "metadata": {
        "id": "HGHvq3DL0mF_"
      },
      "execution_count": null,
      "outputs": []
    },
    {
      "cell_type": "markdown",
      "source": [
        "## Steps in Modelling with TensorFlow\n",
        "\n",
        "* **Creating a Model:** Piece together the layers of a Neural Network yourself or import previously built model (Transfer Learning)\n",
        "* **Compiling:** Defining how a model performance should be measured (Loss/Metrics) as well as defining how it should improve (Optimizer)\n",
        "* **Fitting a Model:** Letting the Model try to find patterns in the data."
      ],
      "metadata": {
        "id": "JuzwIxdi2Jz4"
      }
    },
    {
      "cell_type": "markdown",
      "source": [
        "## **HyperParameter**\n",
        "In machine learning is something a data analyst or developer can set themselves.\n",
        "## Parameter:\n",
        "In machine Learning a parameter usually describes something that a model learns on its own."
      ],
      "metadata": {
        "id": "pTY0aHcd0p1A"
      }
    },
    {
      "cell_type": "code",
      "source": [
        "tf.random.set_seed(42)\n",
        "\n",
        "# Creating a Model Using Sequential API\n",
        "model = tf.keras.Sequential([tf.keras.layers.Dense(1)])\n",
        "\n",
        "# Compile the Model\n",
        "model.compile(loss=tf.keras.losses.mae,\n",
        "              optimizer=tf.keras.optimizers.SGD(),\n",
        "              metrics=[\"mae\"])\n",
        "\n",
        "# Fit the Model\n",
        "model.fit(tf.expand_dims(X, axis=-1), y, epochs=5)\n"
      ],
      "metadata": {
        "id": "U5hLpu6K0l_D"
      },
      "execution_count": null,
      "outputs": []
    },
    {
      "cell_type": "code",
      "source": [
        "model.summary()"
      ],
      "metadata": {
        "id": "G_IPsqnq0l7_"
      },
      "execution_count": null,
      "outputs": []
    },
    {
      "cell_type": "code",
      "source": [
        "model.predict(np.array([17.0]))"
      ],
      "metadata": {
        "id": "JAkNkR9Z3Br1"
      },
      "execution_count": null,
      "outputs": []
    },
    {
      "cell_type": "code",
      "source": [],
      "metadata": {
        "id": "0Inf9IxW3BjF"
      },
      "execution_count": null,
      "outputs": []
    },
    {
      "cell_type": "markdown",
      "source": [
        "## **Improving a Model**\n",
        "\n",
        "To improve our model, we can do some changes which are almost universal\n",
        "\n",
        "**Changes in Model:**\n",
        "* We can add more layers\n",
        "* We can increase the number of hidden units\n",
        "* We can change the Activation function\n",
        "\n",
        "**Compiling a Model:**\n",
        "* We can choose a different optimization functions\n",
        "* We can change the Learning Rate of the optimization Function\n",
        "\n",
        "**Fitting a Model:**\n",
        "* We can fit a model with more EPOCHS.\n",
        "* We can also provide more data\n",
        "\n",
        "So, in summary below are some of the techniques we can use to improve the model performances.\n",
        "\n",
        "* Increase the Number Of Layers\n",
        "* Increasing the number of hidden units\n",
        "* Changing the Learning Rate\n",
        "\n",
        "\n",
        "\n"
      ],
      "metadata": {
        "id": "VvHVqxX95jmB"
      }
    },
    {
      "cell_type": "code",
      "source": [],
      "metadata": {
        "id": "esKw_HJZ3BaT"
      },
      "execution_count": null,
      "outputs": []
    },
    {
      "cell_type": "code",
      "source": [],
      "metadata": {
        "id": "t4WBvv_p5RNx"
      },
      "execution_count": null,
      "outputs": []
    },
    {
      "cell_type": "code",
      "source": [],
      "metadata": {
        "id": "oiPtPGvv5RFp"
      },
      "execution_count": null,
      "outputs": []
    },
    {
      "cell_type": "code",
      "source": [],
      "metadata": {
        "id": "y6hG04E25Q84"
      },
      "execution_count": null,
      "outputs": []
    },
    {
      "cell_type": "code",
      "source": [],
      "metadata": {
        "id": "Yo0fm1uc5Q0H"
      },
      "execution_count": null,
      "outputs": []
    }
  ]
}