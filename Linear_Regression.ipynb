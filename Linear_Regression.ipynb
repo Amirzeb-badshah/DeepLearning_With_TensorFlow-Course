{
  "nbformat": 4,
  "nbformat_minor": 0,
  "metadata": {
    "colab": {
      "provenance": [],
      "authorship_tag": "ABX9TyMg9gkhU/l+aLFJEXee3CGq"
    },
    "kernelspec": {
      "name": "python3",
      "display_name": "Python 3"
    },
    "language_info": {
      "name": "python"
    }
  },
  "cells": [
    {
      "cell_type": "markdown",
      "source": [
        "# Linear Regression"
      ],
      "metadata": {
        "id": "YJGdDYNtaHxl"
      }
    },
    {
      "cell_type": "code",
      "source": [
        "import tensorflow as tf\n",
        "import numpy as np\n",
        "import pandas as pd\n",
        "import matplotlib.pyplot as plt\n",
        "print(tf.__version__)"
      ],
      "metadata": {
        "colab": {
          "base_uri": "https://localhost:8080/"
        },
        "id": "RQGomSy70mIx",
        "outputId": "110ebce2-68a2-4e84-a327-d9a731e7f861"
      },
      "execution_count": 32,
      "outputs": [
        {
          "output_type": "stream",
          "name": "stdout",
          "text": [
            "2.19.0\n"
          ]
        }
      ]
    },
    {
      "cell_type": "markdown",
      "source": [
        "## Useful info\n",
        "\n",
        "* **Input Layer:** Equal to no of input parameters\n",
        "* **Hidden Layer:** Minimum 1, Maximum unlimited\n",
        "* **Neurons Per Layer:** Specific to a problem, generally from 10 to 100\n",
        "* **Output Layer Shape:** Depends on the prediction requirements. If Regression then 1, otherwise\n",
        "* **Hidden Activation Function:** Usually ReLU\n",
        "* **Output Activation:** None, ReLU, Logistic\n",
        "* **Loss Function:** MSE (Mean Square Error), MAE (Mean Absolute Error), Huber (Combination of MAE & MSE) if there are outliers\n",
        "* **Optimizer:** SGD, Adam"
      ],
      "metadata": {
        "id": "6H1ji2X4aMUn"
      }
    },
    {
      "cell_type": "code",
      "source": [
        "X = np.array([-7.0, -4.0, -1.0, 2.0, 5.0, 8.0, 11.0, 14.0])\n",
        "y = np.array([3.0, 6.0, 9.0, 12.0, 15.0, 18.0, 21.0, 24.0])\n",
        "\n",
        "plt.scatter(X,y)\n",
        "plt.show()"
      ],
      "metadata": {
        "id": "HGHvq3DL0mF_"
      },
      "execution_count": null,
      "outputs": []
    },
    {
      "cell_type": "markdown",
      "source": [
        "## Steps in Modelling with TensorFlow\n",
        "\n",
        "* **Creating a Model:** Piece together the layers of a Neural Network yourself or import previously built model (Transfer Learning)\n",
        "* **Compiling:** Defining how a model performance should be measured (Loss/Metrics) as well as defining how it should improve (Optimizer)\n",
        "* **Fitting a Model:** Letting the Model try to find patterns in the data."
      ],
      "metadata": {
        "id": "JuzwIxdi2Jz4"
      }
    },
    {
      "cell_type": "markdown",
      "source": [
        "## **HyperParameter**\n",
        "In machine learning is something a data analyst or developer can set themselves.\n",
        "## Parameter:\n",
        "In machine Learning a parameter usually describes something that a model learns on its own."
      ],
      "metadata": {
        "id": "pTY0aHcd0p1A"
      }
    },
    {
      "cell_type": "code",
      "source": [
        "tf.random.set_seed(42)\n",
        "\n",
        "# Creating a Model Using Sequential API\n",
        "model = tf.keras.Sequential([tf.keras.layers.Dense(1)])\n",
        "\n",
        "# Compile the Model\n",
        "model.compile(loss=tf.keras.losses.mae,\n",
        "              optimizer=tf.keras.optimizers.SGD(),\n",
        "              metrics=[\"mae\"])\n",
        "\n",
        "# Fit the Model\n",
        "model.fit(tf.expand_dims(X, axis=-1), y, epochs=5)\n"
      ],
      "metadata": {
        "id": "U5hLpu6K0l_D"
      },
      "execution_count": null,
      "outputs": []
    },
    {
      "cell_type": "code",
      "source": [
        "model.summary()"
      ],
      "metadata": {
        "id": "G_IPsqnq0l7_"
      },
      "execution_count": null,
      "outputs": []
    },
    {
      "cell_type": "code",
      "source": [
        "model.predict(np.array([17.0]))"
      ],
      "metadata": {
        "id": "JAkNkR9Z3Br1"
      },
      "execution_count": null,
      "outputs": []
    },
    {
      "cell_type": "markdown",
      "source": [
        "## **Improving a Model**\n",
        "\n",
        "To improve our model, we can do some changes which are almost universal\n",
        "\n",
        "**Changes in Model:**\n",
        "* We can add more layers\n",
        "* We can increase the number of hidden units\n",
        "* We can change the Activation function\n",
        "\n",
        "**Compiling a Model:**\n",
        "* We can choose a different optimization functions\n",
        "* We can change the Learning Rate of the optimization Function\n",
        "\n",
        "**Fitting a Model:**\n",
        "* We can fit a model with more EPOCHS.\n",
        "* We can also provide more data\n",
        "\n",
        "So, in summary below are some of the techniques we can use to improve the model performances.\n",
        "\n",
        "* Increase the Number Of Layers\n",
        "* Increasing the number of hidden units\n",
        "* Changing the Learning Rate\n",
        "\n",
        "\n",
        "\n"
      ],
      "metadata": {
        "id": "VvHVqxX95jmB"
      }
    },
    {
      "cell_type": "code",
      "source": [
        "tf.random.set_seed(42)\n",
        "\n",
        "# Creating a Model Using Sequential API\n",
        "model = tf.keras.Sequential([tf.keras.layers.Dense(1)])\n",
        "\n",
        "# Compile the Model\n",
        "model.compile(loss=tf.keras.losses.mae,\n",
        "              optimizer=tf.keras.optimizers.SGD(),\n",
        "              metrics=[\"mae\", \"accuracy\"])\n",
        "\n",
        "# Fit the Model\n",
        "history = model.fit(tf.expand_dims(X, axis=-1), y, epochs=100)"
      ],
      "metadata": {
        "id": "esKw_HJZ3BaT"
      },
      "execution_count": null,
      "outputs": []
    },
    {
      "cell_type": "code",
      "source": [
        "# plot the accuracy\n",
        "df = pd.DataFrame(history.history)\n",
        "plt.plot(df[\"loss\"])\n",
        "plt.show()"
      ],
      "metadata": {
        "id": "t4WBvv_p5RNx"
      },
      "execution_count": null,
      "outputs": []
    },
    {
      "cell_type": "code",
      "source": [
        "model.predict(np.array([2.0]))"
      ],
      "metadata": {
        "id": "oiPtPGvv5RFp"
      },
      "execution_count": null,
      "outputs": []
    },
    {
      "cell_type": "markdown",
      "source": [
        "## Let's Enter a bigger Dataset"
      ],
      "metadata": {
        "id": "EtZd2ERpEEcQ"
      }
    },
    {
      "cell_type": "code",
      "source": [
        "X = np.arange(-100, 100, 4)\n",
        "y = np.arange(-90, 110, 4)\n",
        "\n",
        "plt.scatter(X,y)\n",
        "plt.show()"
      ],
      "metadata": {
        "id": "Yo0fm1uc5Q0H"
      },
      "execution_count": null,
      "outputs": []
    },
    {
      "cell_type": "code",
      "source": [
        "X_train = X[:40]\n",
        "y_train = y[:40]\n",
        "\n",
        "X_test = X[40:]\n",
        "y_test = y[40:]"
      ],
      "metadata": {
        "id": "2tgQtp2wEMch"
      },
      "execution_count": 73,
      "outputs": []
    },
    {
      "cell_type": "code",
      "source": [
        "plt.figure(figsize=(10,7))\n",
        "plt.scatter(X_train, y_train, c=\"b\", label=\"Training Data\")\n",
        "plt.scatter(X_test, y_test, c=\"g\", label=\"Testing Data\")\n",
        "plt.legend()\n",
        "plt.show()"
      ],
      "metadata": {
        "id": "R-PWg1YqEMU6"
      },
      "execution_count": null,
      "outputs": []
    },
    {
      "cell_type": "code",
      "source": [
        "tf.random.set_seed(42)\n",
        "\n",
        "# Here the output layer is inferred by tensorflow automatically\n",
        "model =tf.keras.Sequential([\n",
        "                            tf.keras.layers.Dense(1, input_shape=[1])])\n",
        "model.compile(loss=tf.keras.losses.mae,\n",
        "              optimizer=tf.keras.optimizers.SGD(),\n",
        "              metrics=[\"mae\"])\n",
        "\n",
        "model.summary()\n"
      ],
      "metadata": {
        "id": "oKyD7y2BEMNX"
      },
      "execution_count": null,
      "outputs": []
    },
    {
      "cell_type": "code",
      "source": [
        "history = model.fit(X_train, y_train, epochs=100, verbose=0)"
      ],
      "metadata": {
        "id": "AqVb6M1kEMFw"
      },
      "execution_count": 76,
      "outputs": []
    },
    {
      "cell_type": "code",
      "source": [
        "df = pd.DataFrame(history.history)\n"
      ],
      "metadata": {
        "id": "rtbdwW05FHWZ"
      },
      "execution_count": 77,
      "outputs": []
    },
    {
      "cell_type": "code",
      "source": [
        "from tensorflow.keras.utils import plot_model\n",
        "plot_model(model, show_shapes=True)"
      ],
      "metadata": {
        "id": "XehV4CEzFHTp"
      },
      "execution_count": null,
      "outputs": []
    },
    {
      "cell_type": "markdown",
      "source": [
        "## Model Summary\n",
        "\n",
        "**Total Params:**\n",
        "Total Number of parameters in the model\n",
        "\n",
        "**Trainable Parameters:**\n",
        "Parameters which the model updates when it trains\n",
        "\n",
        "**Non-Trainable Parameters:**\n",
        "These parameters are not updated during training. This is normally the case when you bring in already learned patterns from other models during transfer learning.\n"
      ],
      "metadata": {
        "id": "e0qWRBoyJpvS"
      }
    },
    {
      "cell_type": "markdown",
      "source": [
        "##Visualizing the Predictions"
      ],
      "metadata": {
        "id": "6pvel_IzKcRo"
      }
    },
    {
      "cell_type": "code",
      "source": [
        "y_predict = model.predict(X_test)\n"
      ],
      "metadata": {
        "id": "XixN54AHFHHH"
      },
      "execution_count": null,
      "outputs": []
    },
    {
      "cell_type": "code",
      "source": [
        "np.round(y_predict,2)"
      ],
      "metadata": {
        "colab": {
          "base_uri": "https://localhost:8080/"
        },
        "id": "d67EWWGULOEw",
        "outputId": "f576fab2-c374-49fc-bf5f-01af8f29799b"
      },
      "execution_count": 79,
      "outputs": [
        {
          "output_type": "execute_result",
          "data": {
            "text/plain": [
              "array([[ 63.24],\n",
              "       [ 67.36],\n",
              "       [ 71.49],\n",
              "       [ 75.61],\n",
              "       [ 79.73],\n",
              "       [ 83.85],\n",
              "       [ 87.97],\n",
              "       [ 92.1 ],\n",
              "       [ 96.22],\n",
              "       [100.34]], dtype=float32)"
            ]
          },
          "metadata": {},
          "execution_count": 79
        }
      ]
    },
    {
      "cell_type": "code",
      "source": [
        "def plot_predictions(train_data=X_train,\n",
        "                     train_labels=y_train,\n",
        "                     test_data=X_test,\n",
        "                     test_labels=y_test,\n",
        "                     predictions=y_predict):\n",
        "\n",
        "  plt.figure(figsize=(10,7))\n",
        "  plt.scatter(train_data, train_labels, c=\"b\", label=\"Training Data\")\n",
        "  plt.scatter(test_data, test_labels, c=\"g\", label=\"Testing Data\")\n",
        "  plt.scatter(test_data, predictions, c=\"r\", label=\"Predictions\")\n",
        "  plt.legend()\n",
        "  plt.show()\n",
        "\n",
        "\n"
      ],
      "metadata": {
        "id": "otVGxh7xFG_I"
      },
      "execution_count": 80,
      "outputs": []
    },
    {
      "cell_type": "code",
      "source": [
        "plot_predictions(X_train,y_train ,X_test,y_test,y_predict)"
      ],
      "metadata": {
        "colab": {
          "base_uri": "https://localhost:8080/",
          "height": 599
        },
        "id": "Xy1lLn6fKj9f",
        "outputId": "ac84c6aa-5612-4adb-80e2-192dfc90f6a3"
      },
      "execution_count": 81,
      "outputs": [
        {
          "output_type": "display_data",
          "data": {
            "text/plain": [
              "<Figure size 1000x700 with 1 Axes>"
            ],
            "image/png": "[encoded data removed]"
          },
          "metadata": {}
        }
      ]
    },
    {
      "cell_type": "markdown",
      "source": [
        "## Evaluating Predictions\n",
        "\n",
        "Two of the most important evaluation metrics used for Regression Problem are\n",
        "\n",
        "**Mean Absolute Error (MAE):**\n",
        "The mean difference between each of the predictions\n",
        "**Mean Squared Error (MSE)**\n",
        "The squared mean difference between the predictions.\n"
      ],
      "metadata": {
        "id": "Cfc2EZ7CNQNB"
      }
    },
    {
      "cell_type": "code",
      "source": [
        "model.evaluate(X_test, y_test)"
      ],
      "metadata": {
        "colab": {
          "base_uri": "https://localhost:8080/"
        },
        "id": "n1hy4mQAKjuN",
        "outputId": "ce8f1d8f-54a9-463e-86df-f272371715c8"
      },
      "execution_count": 82,
      "outputs": [
        {
          "output_type": "stream",
          "name": "stdout",
          "text": [
            "\u001b[1m1/1\u001b[0m \u001b[32m━━━━━━━━━━━━━━━━━━━━\u001b[0m\u001b[37m\u001b[0m \u001b[1m0s\u001b[0m 158ms/step - loss: 6.2091 - mae: 6.2091\n"
          ]
        },
        {
          "output_type": "execute_result",
          "data": {
            "text/plain": [
              "[6.209136486053467, 6.209136486053467]"
            ]
          },
          "metadata": {},
          "execution_count": 82
        }
      ]
    },
    {
      "cell_type": "markdown",
      "source": [
        "**Model.evaluate(X_test, y_test):**\n",
        "It returns the loss of the model as well as any other metric specified during the compilation step."
      ],
      "metadata": {
        "id": "GqV6Dlxccmrx"
      }
    },
    {
      "cell_type": "markdown",
      "source": [
        "## Building more models for evaluation"
      ],
      "metadata": {
        "id": "LB0QO1NneiYq"
      }
    },
    {
      "cell_type": "code",
      "source": [
        "tf.random.set_seed(42)\n",
        "\n",
        "model1 = tf.keras.Sequential([\n",
        "\n",
        "                              tf.keras.layers.Dense(1)\n",
        "])\n",
        "model1.compile(loss=tf.keras.losses.mae,\n",
        "               optimizer=tf.keras.optimizers.SGD(),\n",
        "               metrics=[\"mae\"])\n",
        "history1=model1.fit(tf.expand_dims(X_train, axis=-1),\n",
        "                                     y_train, epochs=100\n",
        "                                     )\n"
      ],
      "metadata": {
        "id": "l0sslQ5aMaUr"
      },
      "execution_count": null,
      "outputs": []
    },
    {
      "cell_type": "code",
      "source": [
        "df = pd.DataFrame(history1.history)\n",
        "# plot the loss\n",
        "plt.plot(df[\"mae\"])\n",
        "plt.show()"
      ],
      "metadata": {
        "id": "bFU85vywgV20"
      },
      "execution_count": null,
      "outputs": []
    },
    {
      "cell_type": "code",
      "source": [
        "y_preds_1 = model1.predict(X_test)\n",
        "plot_predictions(X_train,y_train ,X_test,y_test,y_preds_1)"
      ],
      "metadata": {
        "id": "cRUZDbobeRrf"
      },
      "execution_count": null,
      "outputs": []
    },
    {
      "cell_type": "markdown",
      "source": [
        "## **Building Model-2**"
      ],
      "metadata": {
        "id": "rXTjJP8SiYQZ"
      }
    },
    {
      "cell_type": "code",
      "source": [
        "tf.random.set_seed(42)\n",
        "\n",
        "model2 = tf.keras.Sequential([\n",
        "                              tf.keras.layers.Dense(1),\n",
        "                              tf.keras.layers.Dense(1)\n",
        "])\n",
        "model2.compile(loss=tf.keras.losses.mae,\n",
        "               optimizer=tf.keras.optimizers.SGD(),\n",
        "               metrics=[\"mae\"])\n",
        "history2=model2.fit(tf.expand_dims(X_train, axis=-1), y_train, epochs=300)"
      ],
      "metadata": {
        "id": "nMuM23y9eRjN"
      },
      "execution_count": null,
      "outputs": []
    },
    {
      "cell_type": "code",
      "source": [
        "y_pred_2 = model2.predict(X_test)\n",
        "plot_predictions(X_train,y_train ,X_test,y_test,y_pred_2)"
      ],
      "metadata": {
        "colab": {
          "base_uri": "https://localhost:8080/",
          "height": 616
        },
        "id": "IYNBPJ2ig7qn",
        "outputId": "fc03dd30-9e0f-4075-c20a-43722187b313"
      },
      "execution_count": 93,
      "outputs": [
        {
          "output_type": "stream",
          "name": "stdout",
          "text": [
            "\u001b[1m1/1\u001b[0m \u001b[32m━━━━━━━━━━━━━━━━━━━━\u001b[0m\u001b[37m\u001b[0m \u001b[1m0s\u001b[0m 35ms/step\n"
          ]
        },
        {
          "output_type": "display_data",
          "data": {
            "text/plain": [
              "<Figure size 1000x700 with 1 Axes>"
            ],
            "image/png": "[encoded data removed]"
          },
          "metadata": {}
        }
      ]
    },
    {
      "cell_type": "markdown",
      "source": [
        "**For Model-3 we will keep everything like Model-2 but we will train for longer epoch=500**"
      ],
      "metadata": {
        "id": "72igBjwNkOhO"
      }
    },
    {
      "cell_type": "code",
      "source": [
        "tf.random.set_seed(42)\n",
        "\n",
        "model3 = tf.keras.Sequential([\n",
        "                              tf.keras.layers.Dense(1),\n",
        "                              tf.keras.layers.Dense(1)\n",
        "])\n",
        "\n",
        "model3.compile(loss=tf.keras.losses.mae,\n",
        "               optimizer=tf.keras.optimizers.SGD(),\n",
        "               metrics=[\"mae\"])\n",
        "\n",
        "model3.fit(tf.expand_dims(X_train, axis=-1), y_train, epochs=500)\n",
        "\n"
      ],
      "metadata": {
        "id": "sG3iCyHIg7kn"
      },
      "execution_count": null,
      "outputs": []
    },
    {
      "cell_type": "code",
      "source": [
        "y_pred_3 = model3.predict(X_test)\n",
        "plot_predictions(X_train,y_train ,X_test,y_test,y_pred_3)"
      ],
      "metadata": {
        "id": "nQOliTNYg7hX"
      },
      "execution_count": null,
      "outputs": []
    },
    {
      "cell_type": "markdown",
      "source": [
        "## **Saving Model**\n",
        "\n",
        "There are two ways to save a model\n",
        "* SavedModel Format (Default)\n",
        "* HDF5 Format\n",
        "\n",
        "Main difference between the two is that SavedModel is automatically able to save custom objects (Such as Layers) without additional modifications when loading the model back in."
      ],
      "metadata": {
        "id": "eGa3ZgNEmXW4"
      }
    },
    {
      "cell_type": "code",
      "source": [
        "model2.save(\"best_model_Model2.keras\")"
      ],
      "metadata": {
        "id": "OP6vBF5RkZG5"
      },
      "execution_count": 99,
      "outputs": []
    },
    {
      "cell_type": "code",
      "source": [
        "!ls best_model_Model2.keras"
      ],
      "metadata": {
        "id": "prZeAHlXkY95"
      },
      "execution_count": null,
      "outputs": []
    },
    {
      "cell_type": "code",
      "source": [
        "model2.save(\"best_model_Model2.h5\")"
      ],
      "metadata": {
        "id": "08w1kp5fmQdt"
      },
      "execution_count": null,
      "outputs": []
    },
    {
      "cell_type": "code",
      "source": [
        "!ls best_model_Model2.h5"
      ],
      "metadata": {
        "id": "OnP3med9mQVU"
      },
      "execution_count": null,
      "outputs": []
    },
    {
      "cell_type": "markdown",
      "source": [
        "## **Loading a Model**"
      ],
      "metadata": {
        "id": "0iG-8T7LxDhj"
      }
    },
    {
      "cell_type": "code",
      "source": [
        "load_saved_model = tf.keras.models.load_model(\"best_model_Model2.keras\")"
      ],
      "metadata": {
        "id": "AMcVDZb7nrlI"
      },
      "execution_count": 104,
      "outputs": []
    },
    {
      "cell_type": "code",
      "source": [
        "load_saved_model.summary()"
      ],
      "metadata": {
        "id": "CWxwZaZrnrbX"
      },
      "execution_count": null,
      "outputs": []
    },
    {
      "cell_type": "markdown",
      "source": [
        "## **A detailed Example**"
      ],
      "metadata": {
        "id": "21DvKEF2xmOG"
      }
    },
    {
      "cell_type": "code",
      "source": [
        "insurance = pd.read_csv(\"https://raw.githubusercontent.com/stedy/Machine-Learning-with-R-datasets/master/insurance.csv\")"
      ],
      "metadata": {
        "id": "OdHAzeRznrL3"
      },
      "execution_count": 2,
      "outputs": []
    },
    {
      "cell_type": "code",
      "source": [
        "insurance.head(10)"
      ],
      "metadata": {
        "id": "qvvAclRhnrJm"
      },
      "execution_count": null,
      "outputs": []
    },
    {
      "cell_type": "code",
      "source": [
        "insurance_one_hot = pd.get_dummies(insurance, dtype=int)\n",
        "insurance_one_hot.head(5)"
      ],
      "metadata": {
        "id": "91Fd_XQRnrGK"
      },
      "execution_count": null,
      "outputs": []
    },
    {
      "cell_type": "code",
      "source": [
        "X  = insurance_one_hot.drop(\"charges\", axis=1)\n",
        "y = insurance_one_hot[\"charges\"]"
      ],
      "metadata": {
        "id": "6P_gTg6Inq_m"
      },
      "execution_count": 8,
      "outputs": []
    },
    {
      "cell_type": "code",
      "source": [
        "X.shape, y.shape, insurance_one_hot.shape"
      ],
      "metadata": {
        "id": "nSm24D0Xnq3s"
      },
      "execution_count": null,
      "outputs": []
    },
    {
      "cell_type": "code",
      "source": [
        "from sklearn.model_selection import train_test_split\n",
        "X_train, X_test, y_train, y_test = train_test_split(X, y, test_size=0.2, random_state=42)\n",
        "\n",
        "\n"
      ],
      "metadata": {
        "id": "01aW60G3nqvM"
      },
      "execution_count": 11,
      "outputs": []
    },
    {
      "cell_type": "code",
      "source": [
        "tf.random.set_seed(42)\n",
        "\n",
        "insurance_model = tf.keras.Sequential([\n",
        "                                        tf.keras.layers.Dense(1),\n",
        "                                        tf.keras.layers.Dense(1)\n",
        "])\n",
        "insurance_model.compile(loss=tf.keras.losses.mae,\n",
        "                        optimizer=tf.keras.optimizers.SGD(),\n",
        "                        metrics=[\"mae\"])\n",
        "insurance_model.fit(tf.expand_dims(X_train, axis=-1), y_train, epochs=100)\n",
        "\n"
      ],
      "metadata": {
        "id": "Oc7myrifW0bN"
      },
      "execution_count": null,
      "outputs": []
    },
    {
      "cell_type": "code",
      "source": [
        "insurance_model.evaluate(X_test, y_test)"
      ],
      "metadata": {
        "colab": {
          "base_uri": "https://localhost:8080/"
        },
        "id": "St5__qqtW0R2",
        "outputId": "51406202-26de-4775-f87e-e29537fd705c"
      },
      "execution_count": 15,
      "outputs": [
        {
          "output_type": "stream",
          "name": "stdout",
          "text": [
            "\u001b[1m9/9\u001b[0m \u001b[32m━━━━━━━━━━━━━━━━━━━━\u001b[0m\u001b[37m\u001b[0m \u001b[1m0s\u001b[0m 4ms/step - loss: 8916.5107 - mae: 8916.5107  \n"
          ]
        },
        {
          "output_type": "execute_result",
          "data": {
            "text/plain": [
              "[8716.1533203125, 8716.1533203125]"
            ]
          },
          "metadata": {},
          "execution_count": 15
        }
      ]
    },
    {
      "cell_type": "markdown",
      "source": [
        "## Changes to the above model\n",
        "* No of Layers\n",
        "* No of Neurons per Layer\n",
        "* Optimization Algorithm from SGD to Adam\n"
      ],
      "metadata": {
        "id": "oELAbR_bZWkk"
      }
    },
    {
      "cell_type": "code",
      "source": [
        "tf.random.set_seed(42)\n",
        "\n",
        "# Adding extra Layers\n",
        "insurance_model_2 = tf.keras.Sequential([\n",
        "                                          tf.keras.layers.Dense(100),\n",
        "                                          tf.keras.layers.Dense(10),\n",
        "                                          tf.keras.layers.Dense(1)\n",
        "])\n",
        "\n",
        "insurance_model_2.compile(loss=tf.keras.losses.mae,\n",
        "                          optimizer=tf.keras.optimizers.Adam(),\n",
        "                          metrics=[\"mae\"])\n",
        "\n",
        "history= insurance_model_2.fit(tf.expand_dims(X_train, axis=-1), y_train, epochs=100, verbose=0)\n",
        "\n"
      ],
      "metadata": {
        "id": "L87VIUaIYaEy"
      },
      "execution_count": 22,
      "outputs": []
    },
    {
      "cell_type": "code",
      "source": [
        "insurance_model_2.evaluate(X_test, y_test)"
      ],
      "metadata": {
        "id": "OMN6s4t0YZ76"
      },
      "execution_count": null,
      "outputs": []
    },
    {
      "cell_type": "code",
      "source": [
        "insurance_model.evaluate(X_test, y_test)"
      ],
      "metadata": {
        "id": "Q8n6PbJnYZyh"
      },
      "execution_count": null,
      "outputs": []
    },
    {
      "cell_type": "code",
      "source": [
        "df_insurance_model2 = pd.DataFrame(history.history)\n",
        "df_insurance_model2.head(5)"
      ],
      "metadata": {
        "id": "hOCiyxmVYZov"
      },
      "execution_count": null,
      "outputs": []
    },
    {
      "cell_type": "code",
      "source": [
        "plt.figure(figsize=(10,7))\n",
        "df_insurance_model2.plot()\n",
        "plt.xlabel(\"Epochs\")\n",
        "plt.ylabel(\"Loss\")\n",
        "plt.show()\n"
      ],
      "metadata": {
        "id": "0VxZ4lWZYZf_"
      },
      "execution_count": null,
      "outputs": []
    },
    {
      "cell_type": "code",
      "source": [],
      "metadata": {
        "id": "Ds_OgiWTc3U6"
      },
      "execution_count": null,
      "outputs": []
    },
    {
      "cell_type": "markdown",
      "source": [
        "## Lets' train if for a little longer"
      ],
      "metadata": {
        "id": "Bv7DC-1id2oT"
      }
    },
    {
      "cell_type": "code",
      "source": [
        "history_2 = insurance_model_2.fit(tf.expand_dims(X_train, axis=-1),\n",
        "                                  y_train, epochs=1000, verbose=0)"
      ],
      "metadata": {
        "id": "jZnEZzBxc3Kh"
      },
      "execution_count": 27,
      "outputs": []
    },
    {
      "cell_type": "code",
      "source": [
        "insurance_model_2.mae, insurance_model_2.loss = insurance_model_2.evaluate(X_test,\n",
        "                                                                           y_test)\n",
        "insurance_model_2.mae, insurance_model_2.loss"
      ],
      "metadata": {
        "id": "bUwyeWiHc3Aa"
      },
      "execution_count": null,
      "outputs": []
    },
    {
      "cell_type": "code",
      "source": [
        "plt.figure(figsize=(10,7))\n",
        "df_insurance_model2.plot()\n",
        "plt.xlabel(\"Epochs\")\n",
        "plt.ylabel(\"Loss\")\n",
        "plt.show()"
      ],
      "metadata": {
        "id": "x4Q4jHm_eDJ1"
      },
      "execution_count": null,
      "outputs": []
    },
    {
      "cell_type": "code",
      "source": [],
      "metadata": {
        "id": "s4I0xROFeDAX"
      },
      "execution_count": null,
      "outputs": []
    },
    {
      "cell_type": "markdown",
      "source": [
        "## Preprocessing Data (Normalization and Standardization)\n",
        "\n",
        "* Normalization:- Scaling values from their original range to be between 0 and 1.\n",
        "X_normalized = (X - X_min) / (X_max - X_min)\n",
        "* Standardization:- It converts all of your data to unit variance and 0 mean.\n",
        "x' = (x - mean(x)) / std(x)\n",
        "\n",
        "\n",
        "\n",
        "\n",
        "\n",
        "\n"
      ],
      "metadata": {
        "id": "sZkCHttAhnQS"
      }
    },
    {
      "cell_type": "code",
      "source": [
        "import pandas as pd\n",
        "import matplotlib.pyplot as plt\n",
        "import tensorflow as tf\n",
        "\n",
        "# Read in the insurance dataset\n",
        "insurance = pd.read_csv(\"https://raw.githubusercontent.com/stedy/Machine-Learning-with-R-datasets/master/insurance.csv\")"
      ],
      "metadata": {
        "id": "Y8nPz5jUop7i"
      },
      "execution_count": 33,
      "outputs": []
    },
    {
      "cell_type": "code",
      "source": [
        "# import column transformer from sklearn\n",
        "from sklearn.compose import make_column_transformer\n",
        "from sklearn.preprocessing import MinMaxScaler, OneHotEncoder\n",
        "\n",
        "ct = make_column_transformer((MinMaxScaler(),\n",
        "                              [\"age\", \"bmi\", \"children\"]),\n",
        "                             (OneHotEncoder(handle_unknown=\"ignore\"),\n",
        "                              [\"sex\", \"smoker\", \"region\"]))\n",
        "\n",
        "X = insurance.drop(\"charges\", axis=1)\n",
        "y= insurance[\"charges\"]\n",
        "\n",
        "# Build our train and test sets\n",
        "X_train, X_test, y_train, y_test = train_test_split(X, y, test_size=0.2, random_state=42)\n",
        "\n",
        "# Fit the column transformer to our training data\n",
        "ct.fit(X_train)\n",
        "\n",
        "# Transform the data\n",
        "X_train_normal = ct.transform(X_train)\n",
        "X_test_normal = ct.transform(X_test)\n"
      ],
      "metadata": {
        "id": "DHl4rs4rf1q1"
      },
      "execution_count": 34,
      "outputs": []
    },
    {
      "cell_type": "code",
      "source": [],
      "metadata": {
        "id": "xtdi8G1bf1gt"
      },
      "execution_count": null,
      "outputs": []
    },
    {
      "cell_type": "markdown",
      "source": [
        "## Building the Model"
      ],
      "metadata": {
        "id": "B9jFV-bxtzPX"
      }
    },
    {
      "cell_type": "code",
      "source": [
        "tf.random.set_seed(42)\n",
        "\n",
        "insurance_model_3 = tf.keras.Sequential([\n",
        "                                          tf.keras.layers.Dense(100),\n",
        "                                          tf.keras.layers.Dense(10),\n",
        "                                          tf.keras.layers.Dense(1)\n",
        "])\n",
        "\n",
        "insurance_model_3.compile(loss=tf.losses.mae,\n",
        "                          optimizer=tf.keras.optimizers.Adam(),\n",
        "                          metrics=[\"mae\"])\n",
        "\n",
        "\n",
        "insurance_model_3.fit(X_train_normal, y_train, epochs=100, verbose=0)\n"
      ],
      "metadata": {
        "colab": {
          "base_uri": "https://localhost:8080/"
        },
        "id": "PDiOpMF9hW6Z",
        "outputId": "8118dd6d-efda-43db-e4a9-a2fa5b68801c"
      },
      "execution_count": 41,
      "outputs": [
        {
          "output_type": "execute_result",
          "data": {
            "text/plain": [
              "<keras.src.callbacks.history.History at 0x78130ec9ad90>"
            ]
          },
          "metadata": {},
          "execution_count": 41
        }
      ]
    },
    {
      "cell_type": "code",
      "source": [
        "insurance_model_3.evaluate(X_test_normal, y_test)"
      ],
      "metadata": {
        "colab": {
          "base_uri": "https://localhost:8080/"
        },
        "id": "ZlOTy5IlhWvK",
        "outputId": "685f2668-cd5d-4215-ca98-095fb2e8a1fe"
      },
      "execution_count": 42,
      "outputs": [
        {
          "output_type": "stream",
          "name": "stdout",
          "text": [
            "\u001b[1m9/9\u001b[0m \u001b[32m━━━━━━━━━━━━━━━━━━━━\u001b[0m\u001b[37m\u001b[0m \u001b[1m0s\u001b[0m 5ms/step - loss: 3518.2375 - mae: 3518.2375  \n"
          ]
        },
        {
          "output_type": "execute_result",
          "data": {
            "text/plain": [
              "[3432.478271484375, 3432.478271484375]"
            ]
          },
          "metadata": {},
          "execution_count": 42
        }
      ]
    },
    {
      "cell_type": "markdown",
      "source": [
        "## After Normalising input we achieved the best results."
      ],
      "metadata": {
        "id": "U0T6kT13zdqC"
      }
    }
  ]
}