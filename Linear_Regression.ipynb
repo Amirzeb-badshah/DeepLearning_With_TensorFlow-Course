{
  "nbformat": 4,
  "nbformat_minor": 0,
  "metadata": {
    "colab": {
      "provenance": [],
      "authorship_tag": "ABX9TyNSWlnQgu/QeVBGXgF2npTw"
    },
    "kernelspec": {
      "name": "python3",
      "display_name": "Python 3"
    },
    "language_info": {
      "name": "python"
    }
  },
  "cells": [
    {
      "cell_type": "markdown",
      "source": [
        "# Linear Regression"
      ],
      "metadata": {
        "id": "YJGdDYNtaHxl"
      }
    },
    {
      "cell_type": "code",
      "source": [
        "import tensorflow as tf\n",
        "import numpy as np\n",
        "import pandas as pd\n",
        "import matplotlib.pyplot as plt\n",
        "print(tf.__version__)"
      ],
      "metadata": {
        "colab": {
          "base_uri": "https://localhost:8080/"
        },
        "id": "RQGomSy70mIx",
        "outputId": "be583c7b-5ba3-4c7a-a70a-b8eef417b2c5"
      },
      "execution_count": 56,
      "outputs": [
        {
          "output_type": "stream",
          "name": "stdout",
          "text": [
            "2.19.0\n"
          ]
        }
      ]
    },
    {
      "cell_type": "markdown",
      "source": [
        "## Useful info\n",
        "\n",
        "* **Input Layer:** Equal to no of input parameters\n",
        "* **Hidden Layer:** Minimum 1, Maximum unlimited\n",
        "* **Neurons Per Layer:** Specific to a problem, generally from 10 to 100\n",
        "* **Output Layer Shape:** Depends on the prediction requirements. If Regression then 1, otherwise\n",
        "* **Hidden Activation Function:** Usually ReLU\n",
        "* **Output Activation:** None, ReLU, Logistic\n",
        "* **Loss Function:** MSE (Mean Square Error), MAE (Mean Absolute Error), Huber (Combination of MAE & MSE) if there are outliers\n",
        "* **Optimizer:** SGD, Adam"
      ],
      "metadata": {
        "id": "6H1ji2X4aMUn"
      }
    },
    {
      "cell_type": "code",
      "source": [
        "X = np.array([-7.0, -4.0, -1.0, 2.0, 5.0, 8.0, 11.0, 14.0])\n",
        "y = np.array([3.0, 6.0, 9.0, 12.0, 15.0, 18.0, 21.0, 24.0])\n",
        "\n",
        "plt.scatter(X,y)\n",
        "plt.show()"
      ],
      "metadata": {
        "id": "HGHvq3DL0mF_"
      },
      "execution_count": null,
      "outputs": []
    },
    {
      "cell_type": "markdown",
      "source": [
        "## Steps in Modelling with TensorFlow\n",
        "\n",
        "* **Creating a Model:** Piece together the layers of a Neural Network yourself or import previously built model (Transfer Learning)\n",
        "* **Compiling:** Defining how a model performance should be measured (Loss/Metrics) as well as defining how it should improve (Optimizer)\n",
        "* **Fitting a Model:** Letting the Model try to find patterns in the data."
      ],
      "metadata": {
        "id": "JuzwIxdi2Jz4"
      }
    },
    {
      "cell_type": "markdown",
      "source": [
        "## **HyperParameter**\n",
        "In machine learning is something a data analyst or developer can set themselves.\n",
        "## Parameter:\n",
        "In machine Learning a parameter usually describes something that a model learns on its own."
      ],
      "metadata": {
        "id": "pTY0aHcd0p1A"
      }
    },
    {
      "cell_type": "code",
      "source": [
        "tf.random.set_seed(42)\n",
        "\n",
        "# Creating a Model Using Sequential API\n",
        "model = tf.keras.Sequential([tf.keras.layers.Dense(1)])\n",
        "\n",
        "# Compile the Model\n",
        "model.compile(loss=tf.keras.losses.mae,\n",
        "              optimizer=tf.keras.optimizers.SGD(),\n",
        "              metrics=[\"mae\"])\n",
        "\n",
        "# Fit the Model\n",
        "model.fit(tf.expand_dims(X, axis=-1), y, epochs=5)\n"
      ],
      "metadata": {
        "id": "U5hLpu6K0l_D"
      },
      "execution_count": null,
      "outputs": []
    },
    {
      "cell_type": "code",
      "source": [
        "model.summary()"
      ],
      "metadata": {
        "id": "G_IPsqnq0l7_"
      },
      "execution_count": null,
      "outputs": []
    },
    {
      "cell_type": "code",
      "source": [
        "model.predict(np.array([17.0]))"
      ],
      "metadata": {
        "id": "JAkNkR9Z3Br1"
      },
      "execution_count": null,
      "outputs": []
    },
    {
      "cell_type": "code",
      "source": [],
      "metadata": {
        "id": "0Inf9IxW3BjF"
      },
      "execution_count": null,
      "outputs": []
    },
    {
      "cell_type": "markdown",
      "source": [
        "## **Improving a Model**\n",
        "\n",
        "To improve our model, we can do some changes which are almost universal\n",
        "\n",
        "**Changes in Model:**\n",
        "* We can add more layers\n",
        "* We can increase the number of hidden units\n",
        "* We can change the Activation function\n",
        "\n",
        "**Compiling a Model:**\n",
        "* We can choose a different optimization functions\n",
        "* We can change the Learning Rate of the optimization Function\n",
        "\n",
        "**Fitting a Model:**\n",
        "* We can fit a model with more EPOCHS.\n",
        "* We can also provide more data\n",
        "\n",
        "So, in summary below are some of the techniques we can use to improve the model performances.\n",
        "\n",
        "* Increase the Number Of Layers\n",
        "* Increasing the number of hidden units\n",
        "* Changing the Learning Rate\n",
        "\n",
        "\n",
        "\n"
      ],
      "metadata": {
        "id": "VvHVqxX95jmB"
      }
    },
    {
      "cell_type": "code",
      "source": [
        "tf.random.set_seed(42)\n",
        "\n",
        "# Creating a Model Using Sequential API\n",
        "model = tf.keras.Sequential([tf.keras.layers.Dense(1)])\n",
        "\n",
        "# Compile the Model\n",
        "model.compile(loss=tf.keras.losses.mae,\n",
        "              optimizer=tf.keras.optimizers.SGD(),\n",
        "              metrics=[\"mae\", \"accuracy\"])\n",
        "\n",
        "# Fit the Model\n",
        "history = model.fit(tf.expand_dims(X, axis=-1), y, epochs=100)"
      ],
      "metadata": {
        "id": "esKw_HJZ3BaT"
      },
      "execution_count": null,
      "outputs": []
    },
    {
      "cell_type": "code",
      "source": [
        "# plot the accuracy\n",
        "df = pd.DataFrame(history.history)\n",
        "plt.plot(df[\"loss\"])\n",
        "plt.show()"
      ],
      "metadata": {
        "id": "t4WBvv_p5RNx"
      },
      "execution_count": null,
      "outputs": []
    },
    {
      "cell_type": "code",
      "source": [
        "model.predict(np.array([2.0]))"
      ],
      "metadata": {
        "id": "oiPtPGvv5RFp"
      },
      "execution_count": null,
      "outputs": []
    },
    {
      "cell_type": "code",
      "source": [],
      "metadata": {
        "id": "y6hG04E25Q84"
      },
      "execution_count": null,
      "outputs": []
    },
    {
      "cell_type": "markdown",
      "source": [
        "## Let's Enter a bigger Dataset"
      ],
      "metadata": {
        "id": "EtZd2ERpEEcQ"
      }
    },
    {
      "cell_type": "code",
      "source": [
        "X = np.arange(-100, 100, 4)\n",
        "y = np.arange(-90, 110, 4)\n",
        "\n",
        "plt.scatter(X,y)\n",
        "plt.show()"
      ],
      "metadata": {
        "id": "Yo0fm1uc5Q0H"
      },
      "execution_count": null,
      "outputs": []
    },
    {
      "cell_type": "code",
      "source": [
        "X_train = X[:40]\n",
        "y_train = y[:40]\n",
        "\n",
        "X_test = X[40:]\n",
        "y_test = y[40:]"
      ],
      "metadata": {
        "id": "2tgQtp2wEMch"
      },
      "execution_count": 26,
      "outputs": []
    },
    {
      "cell_type": "code",
      "source": [
        "plt.figure(figsize=(10,7))\n",
        "plt.scatter(X_train, y_train, c=\"b\", label=\"Training Data\")\n",
        "plt.scatter(X_test, y_test, c=\"g\", label=\"Testing Data\")\n",
        "plt.legend()\n",
        "plt.show()"
      ],
      "metadata": {
        "id": "R-PWg1YqEMU6"
      },
      "execution_count": null,
      "outputs": []
    },
    {
      "cell_type": "code",
      "source": [
        "tf.random.set_seed(42)\n",
        "\n",
        "# Here the output layer is inferred by tensorflow automatically\n",
        "model =tf.keras.Sequential([\n",
        "                            tf.keras.layers.Dense(1, input_shape=[1])])\n",
        "model.compile(loss=tf.keras.losses.mae,\n",
        "              optimizer=tf.keras.optimizers.SGD(),\n",
        "              metrics=[\"mae\"])\n",
        "\n",
        "model.summary()\n"
      ],
      "metadata": {
        "id": "oKyD7y2BEMNX"
      },
      "execution_count": null,
      "outputs": []
    },
    {
      "cell_type": "code",
      "source": [
        "history = model.fit(X_train, y_train, epochs=100, verbose=0)"
      ],
      "metadata": {
        "id": "AqVb6M1kEMFw"
      },
      "execution_count": 55,
      "outputs": []
    },
    {
      "cell_type": "code",
      "source": [
        "df = pd.DataFrame(history.history)\n"
      ],
      "metadata": {
        "id": "rtbdwW05FHWZ"
      },
      "execution_count": null,
      "outputs": []
    },
    {
      "cell_type": "code",
      "source": [
        "from tensorflow.keras.utils import plot_model\n",
        "plot_model(model, show_shapes=True)"
      ],
      "metadata": {
        "id": "XehV4CEzFHTp"
      },
      "execution_count": null,
      "outputs": []
    },
    {
      "cell_type": "code",
      "source": [],
      "metadata": {
        "id": "BJGokHi2FHQ_"
      },
      "execution_count": null,
      "outputs": []
    },
    {
      "cell_type": "markdown",
      "source": [
        "## Model Summary\n",
        "\n",
        "**Total Params:**\n",
        "Total Number of parameters in the model\n",
        "\n",
        "**Trainable Parameters:**\n",
        "Parameters which the model updates when it trains\n",
        "\n",
        "**Non-Trainable Parameters:**\n",
        "These parameters are not updated during training. This is normally the case when you bring in already learned patterns from other models during transfer learning.\n"
      ],
      "metadata": {
        "id": "e0qWRBoyJpvS"
      }
    },
    {
      "cell_type": "markdown",
      "source": [
        "##Visualizing the Predictions"
      ],
      "metadata": {
        "id": "6pvel_IzKcRo"
      }
    },
    {
      "cell_type": "code",
      "source": [
        "y_predict = model.predict(X_test)\n"
      ],
      "metadata": {
        "colab": {
          "base_uri": "https://localhost:8080/"
        },
        "id": "XixN54AHFHHH",
        "outputId": "c2249ea9-5c58-438b-ddd0-5f50bcfcdc49"
      },
      "execution_count": 40,
      "outputs": [
        {
          "output_type": "stream",
          "name": "stdout",
          "text": [
            "\u001b[1m1/1\u001b[0m \u001b[32m━━━━━━━━━━━━━━━━━━━━\u001b[0m\u001b[37m\u001b[0m \u001b[1m0s\u001b[0m 76ms/step\n"
          ]
        }
      ]
    },
    {
      "cell_type": "code",
      "source": [
        "np.round(y_predict,2)"
      ],
      "metadata": {
        "colab": {
          "base_uri": "https://localhost:8080/"
        },
        "id": "d67EWWGULOEw",
        "outputId": "f0c20d4f-1b8e-49fa-d767-f24657b0f80d"
      },
      "execution_count": 42,
      "outputs": [
        {
          "output_type": "execute_result",
          "data": {
            "text/plain": [
              "array([[49.72],\n",
              "       [52.93],\n",
              "       [56.15],\n",
              "       [59.37],\n",
              "       [62.59],\n",
              "       [65.81],\n",
              "       [69.03],\n",
              "       [72.25],\n",
              "       [75.47],\n",
              "       [78.69]], dtype=float32)"
            ]
          },
          "metadata": {},
          "execution_count": 42
        }
      ]
    },
    {
      "cell_type": "code",
      "source": [
        "def plot_predictions(train_data=X_train,\n",
        "                     train_labels=y_train,\n",
        "                     test_data=X_test,\n",
        "                     test_labels=y_test,\n",
        "                     predictions=y_predict):\n",
        "\n",
        "  plt.figure(figsize=(10,7))\n",
        "  plt.scatter(train_data, train_labels, c=\"b\", label=\"Training Data\")\n",
        "  plt.scatter(test_data, test_labels, c=\"g\", label=\"Testing Data\")\n",
        "  plt.scatter(test_data, predictions, c=\"r\", label=\"Predictions\")\n",
        "  plt.legend()\n",
        "  plt.show()\n",
        "\n",
        "\n"
      ],
      "metadata": {
        "id": "otVGxh7xFG_I"
      },
      "execution_count": 46,
      "outputs": []
    },
    {
      "cell_type": "code",
      "source": [
        "plot_predictions(X_train,y_train ,X_test,y_test,y_predict)"
      ],
      "metadata": {
        "id": "Xy1lLn6fKj9f"
      },
      "execution_count": null,
      "outputs": []
    },
    {
      "cell_type": "code",
      "source": [],
      "metadata": {
        "id": "5i2hK0edKj18"
      },
      "execution_count": null,
      "outputs": []
    },
    {
      "cell_type": "markdown",
      "source": [
        "## Evaluating Predictions\n",
        "\n",
        "Two of the most important evaluation metrics used for Regression Problem are\n",
        "\n",
        "**Mean Absolute Error (MAE):**\n",
        "The mean difference between each of the predictions\n",
        "**Mean Squared Error (MSE)**\n",
        "The squared mean difference between the predictions.\n"
      ],
      "metadata": {
        "id": "Cfc2EZ7CNQNB"
      }
    },
    {
      "cell_type": "code",
      "source": [
        "model.evaluate(X_test, y_test)"
      ],
      "metadata": {
        "id": "n1hy4mQAKjuN"
      },
      "execution_count": null,
      "outputs": []
    },
    {
      "cell_type": "markdown",
      "source": [
        "**Model.evaluate(X_test, y_test):**\n",
        "It returns the loss of the model as well as any other metric specified during the compilation step."
      ],
      "metadata": {
        "id": "GqV6Dlxccmrx"
      }
    },
    {
      "cell_type": "code",
      "source": [],
      "metadata": {
        "id": "5C6hAnjXMacs"
      },
      "execution_count": null,
      "outputs": []
    },
    {
      "cell_type": "markdown",
      "source": [
        "## Building more models for evaluation"
      ],
      "metadata": {
        "id": "LB0QO1NneiYq"
      }
    },
    {
      "cell_type": "code",
      "source": [
        "tf.random.set_seed(42)\n",
        "\n",
        "model1 = tf.keras.Sequential([\n",
        "\n",
        "                              tf.keras.layers.Dense(1)\n",
        "])\n",
        "model1.compile(loss=tf.keras.losses.mae,\n",
        "               optimizer=tf.keras.optimizers.SGD(),\n",
        "               metrics=[\"mae\"])\n",
        "history1=model1.fit(tf.expand_dims(X_train, axis=-1),\n",
        "                                     y_train, epochs=100\n",
        "                                     )\n"
      ],
      "metadata": {
        "id": "l0sslQ5aMaUr"
      },
      "execution_count": null,
      "outputs": []
    },
    {
      "cell_type": "code",
      "source": [
        "df = pd.DataFrame(history1.history)\n",
        "# plot the loss\n",
        "plt.plot(df[\"mae\"])\n",
        "plt.show()"
      ],
      "metadata": {
        "id": "bFU85vywgV20"
      },
      "execution_count": null,
      "outputs": []
    },
    {
      "cell_type": "code",
      "source": [
        "y_preds_1 = model1.predict(X_test)\n",
        "plot_predictions(X_train,y_train ,X_test,y_test,y_preds_1)"
      ],
      "metadata": {
        "colab": {
          "base_uri": "https://localhost:8080/",
          "height": 474
        },
        "id": "cRUZDbobeRrf",
        "outputId": "281407f3-be12-4a6b-8eef-f2ed748e46d7"
      },
      "execution_count": 62,
      "outputs": [
        {
          "output_type": "stream",
          "name": "stdout",
          "text": [
            "\u001b[1m1/1\u001b[0m \u001b[32m━━━━━━━━━━━━━━━━━━━━\u001b[0m\u001b[37m\u001b[0m \u001b[1m0s\u001b[0m 64ms/step\n"
          ]
        },
        {
          "output_type": "display_data",
          "data": {
            "text/plain": [
              "<Figure size 1000x700 with 1 Axes>"
            ],
            "image/png": "[encoded data removed]"
          },
          "metadata": {}
        }
      ]
    },
    {
      "cell_type": "code",
      "source": [],
      "metadata": {
        "id": "qwQMF_hleRoh"
      },
      "execution_count": null,
      "outputs": []
    },
    {
      "cell_type": "code",
      "source": [],
      "metadata": {
        "id": "nMuM23y9eRjN"
      },
      "execution_count": null,
      "outputs": []
    },
    {
      "cell_type": "code",
      "source": [],
      "metadata": {
        "id": "IYNBPJ2ig7qn"
      },
      "execution_count": null,
      "outputs": []
    },
    {
      "cell_type": "code",
      "source": [],
      "metadata": {
        "id": "U44BqT_1g7nn"
      },
      "execution_count": null,
      "outputs": []
    },
    {
      "cell_type": "code",
      "source": [],
      "metadata": {
        "id": "sG3iCyHIg7kn"
      },
      "execution_count": null,
      "outputs": []
    },
    {
      "cell_type": "code",
      "source": [],
      "metadata": {
        "id": "nQOliTNYg7hX"
      },
      "execution_count": null,
      "outputs": []
    },
    {
      "cell_type": "code",
      "source": [],
      "metadata": {
        "id": "OlAi0tTvg7aW"
      },
      "execution_count": null,
      "outputs": []
    }
  ]
}